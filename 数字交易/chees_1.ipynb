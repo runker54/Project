{
 "cells": [
  {
   "cell_type": "code",
   "execution_count": 4,
   "metadata": {
    "collapsed": true
   },
   "outputs": [],
   "source": [
    "import openpyxl\n",
    "import pandas as pd\n",
    "import numpy as np\n",
    "import time\n",
    "path = r\"C:\\Users\\65680\\Desktop\\织金罗甸县第五章\\第五章数据分析之排序-罗甸县.xls\"\n",
    "data = pd.ExcelFile(path)\n",
    "df = data.parse(\"品种筛选小区\")\n",
    "df.set_index(\"材料\",inplace=True)"
   ]
  },
  {
   "cell_type": "code",
   "execution_count": 5,
   "outputs": [
    {
     "data": {
      "text/plain": "         镉含量（mg/kg）  汞含量（mg/kg）  砷含量（mg/kg）  铅含量（mg/kg）  铬含量（mg/kg）\n材料                                                                 \n野香优海丝       0.01710      0.0015      0.0364      0.0213      0.0635\n宜优1787      0.02640      0.0033      0.0225      0.0100      0.1080\n宜香优2115     0.02150      0.0015      0.0308      0.0100      0.0631\n中浙优8号       0.00566      0.0015      0.0220      0.0504      0.1250\n宜优727       0.01520      0.0042      0.0290      0.0100      0.0815\n宜香3724      0.07630      0.0055      0.0343      0.0100      0.1500\n野香优油丝       0.01550      0.0042      0.0148      0.0201      0.1000\n宜优1988      0.02870      0.0038      0.0467      0.0684      0.0601\n宜香优1108     0.02780      0.0015      0.0339      0.0409      0.0656\n川优3727      0.02020      0.0015      0.0248      0.0414      0.0654\n宜香优5979     0.01770      0.0110      0.0284      0.0361      0.0595\n宜香1979      0.01390      0.0032      0.0254      0.0571      0.0883\n旌Ⅱ优华珍       0.01770      0.0052      0.0235      0.1070      0.1040\n泰优808       0.01650      0.0015      0.0250      0.1150      0.0656\n德优3301      0.03080      0.0015      0.0208      0.0638      0.1500\n野香优1701     0.07140      0.0015      0.1750      0.0100      0.2490\n裕优华占        0.02070      0.0043      0.0324      0.0418      0.1310\n晶两优1206     0.03000      0.0031      0.0384      0.0100      0.2670\n川康优6107     0.04000      0.0034      0.0325      0.0696      0.1300\n桃湘优莉晶       0.02510      0.0015      0.0382      0.0289      0.1540",
      "text/html": "<div>\n<style scoped>\n    .dataframe tbody tr th:only-of-type {\n        vertical-align: middle;\n    }\n\n    .dataframe tbody tr th {\n        vertical-align: top;\n    }\n\n    .dataframe thead th {\n        text-align: right;\n    }\n</style>\n<table border=\"1\" class=\"dataframe\">\n  <thead>\n    <tr style=\"text-align: right;\">\n      <th></th>\n      <th>镉含量（mg/kg）</th>\n      <th>汞含量（mg/kg）</th>\n      <th>砷含量（mg/kg）</th>\n      <th>铅含量（mg/kg）</th>\n      <th>铬含量（mg/kg）</th>\n    </tr>\n    <tr>\n      <th>材料</th>\n      <th></th>\n      <th></th>\n      <th></th>\n      <th></th>\n      <th></th>\n    </tr>\n  </thead>\n  <tbody>\n    <tr>\n      <th>野香优海丝</th>\n      <td>0.01710</td>\n      <td>0.0015</td>\n      <td>0.0364</td>\n      <td>0.0213</td>\n      <td>0.0635</td>\n    </tr>\n    <tr>\n      <th>宜优1787</th>\n      <td>0.02640</td>\n      <td>0.0033</td>\n      <td>0.0225</td>\n      <td>0.0100</td>\n      <td>0.1080</td>\n    </tr>\n    <tr>\n      <th>宜香优2115</th>\n      <td>0.02150</td>\n      <td>0.0015</td>\n      <td>0.0308</td>\n      <td>0.0100</td>\n      <td>0.0631</td>\n    </tr>\n    <tr>\n      <th>中浙优8号</th>\n      <td>0.00566</td>\n      <td>0.0015</td>\n      <td>0.0220</td>\n      <td>0.0504</td>\n      <td>0.1250</td>\n    </tr>\n    <tr>\n      <th>宜优727</th>\n      <td>0.01520</td>\n      <td>0.0042</td>\n      <td>0.0290</td>\n      <td>0.0100</td>\n      <td>0.0815</td>\n    </tr>\n    <tr>\n      <th>宜香3724</th>\n      <td>0.07630</td>\n      <td>0.0055</td>\n      <td>0.0343</td>\n      <td>0.0100</td>\n      <td>0.1500</td>\n    </tr>\n    <tr>\n      <th>野香优油丝</th>\n      <td>0.01550</td>\n      <td>0.0042</td>\n      <td>0.0148</td>\n      <td>0.0201</td>\n      <td>0.1000</td>\n    </tr>\n    <tr>\n      <th>宜优1988</th>\n      <td>0.02870</td>\n      <td>0.0038</td>\n      <td>0.0467</td>\n      <td>0.0684</td>\n      <td>0.0601</td>\n    </tr>\n    <tr>\n      <th>宜香优1108</th>\n      <td>0.02780</td>\n      <td>0.0015</td>\n      <td>0.0339</td>\n      <td>0.0409</td>\n      <td>0.0656</td>\n    </tr>\n    <tr>\n      <th>川优3727</th>\n      <td>0.02020</td>\n      <td>0.0015</td>\n      <td>0.0248</td>\n      <td>0.0414</td>\n      <td>0.0654</td>\n    </tr>\n    <tr>\n      <th>宜香优5979</th>\n      <td>0.01770</td>\n      <td>0.0110</td>\n      <td>0.0284</td>\n      <td>0.0361</td>\n      <td>0.0595</td>\n    </tr>\n    <tr>\n      <th>宜香1979</th>\n      <td>0.01390</td>\n      <td>0.0032</td>\n      <td>0.0254</td>\n      <td>0.0571</td>\n      <td>0.0883</td>\n    </tr>\n    <tr>\n      <th>旌Ⅱ优华珍</th>\n      <td>0.01770</td>\n      <td>0.0052</td>\n      <td>0.0235</td>\n      <td>0.1070</td>\n      <td>0.1040</td>\n    </tr>\n    <tr>\n      <th>泰优808</th>\n      <td>0.01650</td>\n      <td>0.0015</td>\n      <td>0.0250</td>\n      <td>0.1150</td>\n      <td>0.0656</td>\n    </tr>\n    <tr>\n      <th>德优3301</th>\n      <td>0.03080</td>\n      <td>0.0015</td>\n      <td>0.0208</td>\n      <td>0.0638</td>\n      <td>0.1500</td>\n    </tr>\n    <tr>\n      <th>野香优1701</th>\n      <td>0.07140</td>\n      <td>0.0015</td>\n      <td>0.1750</td>\n      <td>0.0100</td>\n      <td>0.2490</td>\n    </tr>\n    <tr>\n      <th>裕优华占</th>\n      <td>0.02070</td>\n      <td>0.0043</td>\n      <td>0.0324</td>\n      <td>0.0418</td>\n      <td>0.1310</td>\n    </tr>\n    <tr>\n      <th>晶两优1206</th>\n      <td>0.03000</td>\n      <td>0.0031</td>\n      <td>0.0384</td>\n      <td>0.0100</td>\n      <td>0.2670</td>\n    </tr>\n    <tr>\n      <th>川康优6107</th>\n      <td>0.04000</td>\n      <td>0.0034</td>\n      <td>0.0325</td>\n      <td>0.0696</td>\n      <td>0.1300</td>\n    </tr>\n    <tr>\n      <th>桃湘优莉晶</th>\n      <td>0.02510</td>\n      <td>0.0015</td>\n      <td>0.0382</td>\n      <td>0.0289</td>\n      <td>0.1540</td>\n    </tr>\n  </tbody>\n</table>\n</div>"
     },
     "execution_count": 5,
     "metadata": {},
     "output_type": "execute_result"
    }
   ],
   "source": [
    "df"
   ],
   "metadata": {
    "collapsed": false,
    "pycharm": {
     "name": "#%%\n"
    }
   }
  },
  {
   "cell_type": "code",
   "execution_count": 8,
   "outputs": [],
   "source": [
    "colmns1 = list(df.columns)\n",
    "colmns = list(df.columns)[:-1]"
   ],
   "metadata": {
    "collapsed": false,
    "pycharm": {
     "name": "#%%\n"
    }
   }
  },
  {
   "cell_type": "code",
   "execution_count": 9,
   "outputs": [],
   "source": [
    "for i in colmns:\n",
    "    max = np.max(df[i])\n",
    "    min = np.min(df[i])\n",
    "    rax = max-min\n",
    "    df[i] = (max-df[i])/rax\n",
    "df[df==0] = 0.1"
   ],
   "metadata": {
    "collapsed": false,
    "pycharm": {
     "name": "#%%"
    }
   }
  },
  {
   "cell_type": "code",
   "execution_count": 10,
   "outputs": [
    {
     "data": {
      "text/plain": "         镉含量（mg/kg）  汞含量（mg/kg）  砷含量（mg/kg）  铅含量（mg/kg）  铬含量（mg/kg）\n材料                                                                 \n野香优海丝      0.838052    1.000000    0.865169    0.892381      0.0635\n宜优1787     0.706399    0.810526    0.951935    1.000000      0.1080\n宜香优2115    0.775764    1.000000    0.900125    1.000000      0.0631\n中浙优8号      1.000000    1.000000    0.955056    0.615238      0.1250\n宜优727      0.864949    0.715789    0.911361    1.000000      0.0815\n宜香3724     0.100000    0.578947    0.878277    1.000000      0.1500\n野香优油丝      0.860702    0.715789    1.000000    0.903810      0.1000\n宜优1988     0.673839    0.757895    0.800874    0.443810      0.0601\n宜香优1108    0.686580    1.000000    0.880774    0.705714      0.0656\n川优3727     0.794168    1.000000    0.937578    0.700952      0.0654\n宜香优5979    0.829558    0.100000    0.915106    0.751429      0.0595\n宜香1979     0.883352    0.821053    0.933833    0.551429      0.0883\n旌Ⅱ优华珍      0.829558    0.610526    0.945693    0.076190      0.1040\n泰优808      0.846546    1.000000    0.936330    0.100000      0.0656\n德优3301     0.644111    1.000000    0.962547    0.487619      0.1500\n野香优1701    0.069366    1.000000    0.100000    1.000000      0.2490\n裕优华占       0.787089    0.705263    0.890137    0.697143      0.1310\n晶两优1206    0.655436    0.831579    0.852684    1.000000      0.2670\n川康优6107    0.513873    0.800000    0.889513    0.432381      0.1300\n桃湘优莉晶      0.724802    1.000000    0.853933    0.820000      0.1540",
      "text/html": "<div>\n<style scoped>\n    .dataframe tbody tr th:only-of-type {\n        vertical-align: middle;\n    }\n\n    .dataframe tbody tr th {\n        vertical-align: top;\n    }\n\n    .dataframe thead th {\n        text-align: right;\n    }\n</style>\n<table border=\"1\" class=\"dataframe\">\n  <thead>\n    <tr style=\"text-align: right;\">\n      <th></th>\n      <th>镉含量（mg/kg）</th>\n      <th>汞含量（mg/kg）</th>\n      <th>砷含量（mg/kg）</th>\n      <th>铅含量（mg/kg）</th>\n      <th>铬含量（mg/kg）</th>\n    </tr>\n    <tr>\n      <th>材料</th>\n      <th></th>\n      <th></th>\n      <th></th>\n      <th></th>\n      <th></th>\n    </tr>\n  </thead>\n  <tbody>\n    <tr>\n      <th>野香优海丝</th>\n      <td>0.838052</td>\n      <td>1.000000</td>\n      <td>0.865169</td>\n      <td>0.892381</td>\n      <td>0.0635</td>\n    </tr>\n    <tr>\n      <th>宜优1787</th>\n      <td>0.706399</td>\n      <td>0.810526</td>\n      <td>0.951935</td>\n      <td>1.000000</td>\n      <td>0.1080</td>\n    </tr>\n    <tr>\n      <th>宜香优2115</th>\n      <td>0.775764</td>\n      <td>1.000000</td>\n      <td>0.900125</td>\n      <td>1.000000</td>\n      <td>0.0631</td>\n    </tr>\n    <tr>\n      <th>中浙优8号</th>\n      <td>1.000000</td>\n      <td>1.000000</td>\n      <td>0.955056</td>\n      <td>0.615238</td>\n      <td>0.1250</td>\n    </tr>\n    <tr>\n      <th>宜优727</th>\n      <td>0.864949</td>\n      <td>0.715789</td>\n      <td>0.911361</td>\n      <td>1.000000</td>\n      <td>0.0815</td>\n    </tr>\n    <tr>\n      <th>宜香3724</th>\n      <td>0.100000</td>\n      <td>0.578947</td>\n      <td>0.878277</td>\n      <td>1.000000</td>\n      <td>0.1500</td>\n    </tr>\n    <tr>\n      <th>野香优油丝</th>\n      <td>0.860702</td>\n      <td>0.715789</td>\n      <td>1.000000</td>\n      <td>0.903810</td>\n      <td>0.1000</td>\n    </tr>\n    <tr>\n      <th>宜优1988</th>\n      <td>0.673839</td>\n      <td>0.757895</td>\n      <td>0.800874</td>\n      <td>0.443810</td>\n      <td>0.0601</td>\n    </tr>\n    <tr>\n      <th>宜香优1108</th>\n      <td>0.686580</td>\n      <td>1.000000</td>\n      <td>0.880774</td>\n      <td>0.705714</td>\n      <td>0.0656</td>\n    </tr>\n    <tr>\n      <th>川优3727</th>\n      <td>0.794168</td>\n      <td>1.000000</td>\n      <td>0.937578</td>\n      <td>0.700952</td>\n      <td>0.0654</td>\n    </tr>\n    <tr>\n      <th>宜香优5979</th>\n      <td>0.829558</td>\n      <td>0.100000</td>\n      <td>0.915106</td>\n      <td>0.751429</td>\n      <td>0.0595</td>\n    </tr>\n    <tr>\n      <th>宜香1979</th>\n      <td>0.883352</td>\n      <td>0.821053</td>\n      <td>0.933833</td>\n      <td>0.551429</td>\n      <td>0.0883</td>\n    </tr>\n    <tr>\n      <th>旌Ⅱ优华珍</th>\n      <td>0.829558</td>\n      <td>0.610526</td>\n      <td>0.945693</td>\n      <td>0.076190</td>\n      <td>0.1040</td>\n    </tr>\n    <tr>\n      <th>泰优808</th>\n      <td>0.846546</td>\n      <td>1.000000</td>\n      <td>0.936330</td>\n      <td>0.100000</td>\n      <td>0.0656</td>\n    </tr>\n    <tr>\n      <th>德优3301</th>\n      <td>0.644111</td>\n      <td>1.000000</td>\n      <td>0.962547</td>\n      <td>0.487619</td>\n      <td>0.1500</td>\n    </tr>\n    <tr>\n      <th>野香优1701</th>\n      <td>0.069366</td>\n      <td>1.000000</td>\n      <td>0.100000</td>\n      <td>1.000000</td>\n      <td>0.2490</td>\n    </tr>\n    <tr>\n      <th>裕优华占</th>\n      <td>0.787089</td>\n      <td>0.705263</td>\n      <td>0.890137</td>\n      <td>0.697143</td>\n      <td>0.1310</td>\n    </tr>\n    <tr>\n      <th>晶两优1206</th>\n      <td>0.655436</td>\n      <td>0.831579</td>\n      <td>0.852684</td>\n      <td>1.000000</td>\n      <td>0.2670</td>\n    </tr>\n    <tr>\n      <th>川康优6107</th>\n      <td>0.513873</td>\n      <td>0.800000</td>\n      <td>0.889513</td>\n      <td>0.432381</td>\n      <td>0.1300</td>\n    </tr>\n    <tr>\n      <th>桃湘优莉晶</th>\n      <td>0.724802</td>\n      <td>1.000000</td>\n      <td>0.853933</td>\n      <td>0.820000</td>\n      <td>0.1540</td>\n    </tr>\n  </tbody>\n</table>\n</div>"
     },
     "execution_count": 10,
     "metadata": {},
     "output_type": "execute_result"
    }
   ],
   "source": [
    "df"
   ],
   "metadata": {
    "collapsed": false,
    "pycharm": {
     "name": "#%%\n"
    }
   }
  },
  {
   "cell_type": "code",
   "execution_count": 12,
   "outputs": [],
   "source": [
    "for i in colmns:\n",
    "    # 计算指标总和\n",
    "    Sum = np.sum(df[i])\n",
    "    # 计算各地区某一指标占比\n",
    "    df[i] = df[i] / Sum\n",
    "# 计算指标信息熵\n",
    "E = []\n",
    "for i in colmns:\n",
    "    # k值\n",
    "    k = 1/np.log(len(colmns))\n",
    "    # 信息熵\n",
    "    x = -k*np.sum(df[i]*np.log(df[i]))\n",
    "    E.append(x)\n",
    "Ez = np.array(E)\n",
    "# 差异系数\n",
    "gj = 1-Ez"
   ],
   "metadata": {
    "collapsed": false,
    "pycharm": {
     "name": "#%%\n"
    }
   }
  },
  {
   "cell_type": "code",
   "execution_count": 13,
   "outputs": [
    {
     "data": {
      "text/plain": "array([-1.10530905, -1.12721314, -1.13635509, -1.0880083 ])"
     },
     "execution_count": 13,
     "metadata": {},
     "output_type": "execute_result"
    }
   ],
   "source": [
    "gj"
   ],
   "metadata": {
    "collapsed": false,
    "pycharm": {
     "name": "#%%\n"
    }
   }
  },
  {
   "cell_type": "code",
   "execution_count": 258,
   "outputs": [],
   "source": [
    "wj = gj/np.sum(gj)"
   ],
   "metadata": {
    "collapsed": false,
    "pycharm": {
     "name": "#%%\n"
    }
   }
  },
  {
   "cell_type": "code",
   "execution_count": 259,
   "outputs": [],
   "source": [
    "U = []\n",
    "for i in range(1, len(df) + 1):\n",
    "    # 获取样本各个指标的值\n",
    "    yv = df[i - 1:i].values.tolist()[0]\n",
    "    yv_t = np.array(yv[:len(yv)-1])\n",
    "    u1 = yv_t * wj * 100\n",
    "    u1 = u1.tolist()\n",
    "    # u1 = u1[0]\n",
    "    u2 = np.sum(yv_t * wj) * 100\n",
    "    # 转换为列表\n",
    "    u2 = np.array([u2])\n",
    "    u2 = u2.tolist()\n",
    "    # 各指标得分 和 综合得分\n",
    "    w11 = u1 + u2+ [yv[-1:]]\n",
    "    U.append(w11)\n",
    "# 获取样本列表\n",
    "area = list(df.index)\n",
    "# 生成数据框\n",
    "U = pd.DataFrame(U, index=area)\n",
    "# 重新设置列名称\n",
    "U.columns = colmns1 + ['综合得分']\n",
    "\n",
    "# 为各个指标得分排名\n",
    "for i in colmns1:\n",
    "    i1 = i + '  排名'\n",
    "    U[i1] = U[i].rank(ascending=False)\n",
    "# 为样本综合得分排名\n",
    "U['综合得分  排名'] = U['综合得分'].rank(ascending=False)"
   ],
   "metadata": {
    "collapsed": false,
    "pycharm": {
     "name": "#%%\n"
    }
   }
  },
  {
   "cell_type": "code",
   "execution_count": 260,
   "outputs": [
    {
     "data": {
      "text/plain": "         镉含量（mg/kg）  汞含量（mg/kg）  砷含量（mg/kg）  铅含量（mg/kg）  铬含量（mg/kg）  产量（kg/亩）  \\\n野香优海丝      1.182691    1.236496    1.023073    1.228098    1.304540  5.974898   \n宜优1787     0.996897    1.002213    1.125676    1.376203    1.019272  5.520260   \n宜香优2115    1.094788    1.236496    1.064409    1.376203    1.307104  6.079001   \n中浙优8号      1.411238    1.236496    1.129366    0.846693    0.910293  5.534086   \n宜优727      1.220649    0.885071    1.077696    1.376203    1.189151  5.748770   \n宜香3724     0.141124    0.715866    1.038574    1.376203    0.750030  4.021798   \n野香优油丝      1.214656    0.885071    1.182513    1.243826    1.070556  5.596621   \n宜优1988     0.950947    0.937134    0.947044    0.610772    1.326336  4.772233   \n宜香优1108    0.968928    1.236496    1.041527    0.971206    1.291078  5.509235   \n川优3727     1.120759    1.236496    1.108698    0.964653    1.292360  5.722967   \n宜香优5979    1.170704    0.123650    1.082125    1.034119    1.330182  4.740779   \n宜香1979     1.246620    1.015228    1.104269    0.758878    1.145559  5.270555   \n旌Ⅱ优华珍      1.170704    0.754913    1.118294    0.104854    1.044914  4.193680   \n泰优808      1.194678    1.236496    1.107222    0.137620    1.291078  4.967094   \n德优3301     0.908994    1.236496    1.138224    0.671063    0.750030  4.704808   \n野香优1701    0.097892    1.236496    0.118251    1.376203    0.115389  2.944232   \n裕优华占       1.110771    0.872055    1.052599    0.959410    0.871830  4.866665   \n晶两优1206    0.924976    1.028244    1.008310    1.376203    0.133018  4.470752   \n川康优6107    0.725197    0.989197    1.051861    0.595044    0.878241  4.239540   \n桃湘优莉晶      1.022868    1.236496    1.009786    1.128487    0.724388  5.122025   \n\n            综合得分  镉含量（mg/kg）  排名  汞含量（mg/kg）  排名  砷含量（mg/kg）  排名  \\\n野香优海丝    [565.0]             6.0             5.0            16.0   \n宜优1787   [545.0]            13.0            12.0             4.0   \n宜香优2115  [560.0]            11.0             5.0            11.0   \n中浙优8号    [543.0]             1.0             5.0             3.0   \n宜优727    [658.0]             3.0            15.5            10.0   \n宜香3724   [585.0]            19.0            19.0            15.0   \n野香优油丝    [473.0]             4.0            15.5             1.0   \n宜优1988   [624.0]            15.0            14.0            19.0   \n宜香优1108  [624.0]            14.0             5.0            14.0   \n川优3727   [587.0]             9.0             5.0             6.0   \n宜香优5979  [696.0]             7.5            20.0             9.0   \n宜香1979   [641.0]             2.0            11.0             8.0   \n旌Ⅱ优华珍    [651.0]             7.5            18.0             5.0   \n泰优808    [502.0]             5.0             5.0             7.0   \n德优3301   [588.0]            17.0             5.0             2.0   \n野香优1701  [506.0]            20.0             5.0            20.0   \n裕优华占     [492.0]            10.0            17.0            12.0   \n晶两优1206  [680.0]            16.0            10.0            18.0   \n川康优6107  [531.0]            18.0            13.0            13.0   \n桃湘优莉晶    [440.0]            12.0             5.0            17.0   \n\n         铅含量（mg/kg）  排名  铬含量（mg/kg）  排名  产量（kg/亩）  排名  综合得分  排名  \n野香优海丝               8.0             4.0           2.0      11.0  \n宜优1787              3.5            12.0           7.0      13.0  \n宜香优2115             3.5             3.0           1.0      12.0  \n中浙优8号              14.0            13.0           6.0      14.0  \n宜优727               3.5             8.0           3.0       3.0  \n宜香3724              3.5            16.5          19.0      10.0  \n野香优油丝               7.0            10.0           5.0      19.0  \n宜优1988             17.0             2.0          13.0       6.5  \n宜香优1108            11.0             6.5           8.0       6.5  \n川优3727             12.0             5.0           4.0       9.0  \n宜香优5979            10.0             1.0          14.0       1.0  \n宜香1979             15.0             9.0           9.0       5.0  \n旌Ⅱ优华珍              20.0            11.0          18.0       4.0  \n泰优808              19.0             6.5          11.0      17.0  \n德优3301             16.0            16.5          15.0       8.0  \n野香优1701             3.5            20.0          20.0      16.0  \n裕优华占               13.0            15.0          12.0      18.0  \n晶两优1206             3.5            19.0          16.0       2.0  \n川康优6107            18.0            14.0          17.0      15.0  \n桃湘优莉晶               9.0            18.0          10.0      20.0  ",
      "text/html": "<div>\n<style scoped>\n    .dataframe tbody tr th:only-of-type {\n        vertical-align: middle;\n    }\n\n    .dataframe tbody tr th {\n        vertical-align: top;\n    }\n\n    .dataframe thead th {\n        text-align: right;\n    }\n</style>\n<table border=\"1\" class=\"dataframe\">\n  <thead>\n    <tr style=\"text-align: right;\">\n      <th></th>\n      <th>镉含量（mg/kg）</th>\n      <th>汞含量（mg/kg）</th>\n      <th>砷含量（mg/kg）</th>\n      <th>铅含量（mg/kg）</th>\n      <th>铬含量（mg/kg）</th>\n      <th>产量（kg/亩）</th>\n      <th>综合得分</th>\n      <th>镉含量（mg/kg）  排名</th>\n      <th>汞含量（mg/kg）  排名</th>\n      <th>砷含量（mg/kg）  排名</th>\n      <th>铅含量（mg/kg）  排名</th>\n      <th>铬含量（mg/kg）  排名</th>\n      <th>产量（kg/亩）  排名</th>\n      <th>综合得分  排名</th>\n    </tr>\n  </thead>\n  <tbody>\n    <tr>\n      <th>野香优海丝</th>\n      <td>1.182691</td>\n      <td>1.236496</td>\n      <td>1.023073</td>\n      <td>1.228098</td>\n      <td>1.304540</td>\n      <td>5.974898</td>\n      <td>[565.0]</td>\n      <td>6.0</td>\n      <td>5.0</td>\n      <td>16.0</td>\n      <td>8.0</td>\n      <td>4.0</td>\n      <td>2.0</td>\n      <td>11.0</td>\n    </tr>\n    <tr>\n      <th>宜优1787</th>\n      <td>0.996897</td>\n      <td>1.002213</td>\n      <td>1.125676</td>\n      <td>1.376203</td>\n      <td>1.019272</td>\n      <td>5.520260</td>\n      <td>[545.0]</td>\n      <td>13.0</td>\n      <td>12.0</td>\n      <td>4.0</td>\n      <td>3.5</td>\n      <td>12.0</td>\n      <td>7.0</td>\n      <td>13.0</td>\n    </tr>\n    <tr>\n      <th>宜香优2115</th>\n      <td>1.094788</td>\n      <td>1.236496</td>\n      <td>1.064409</td>\n      <td>1.376203</td>\n      <td>1.307104</td>\n      <td>6.079001</td>\n      <td>[560.0]</td>\n      <td>11.0</td>\n      <td>5.0</td>\n      <td>11.0</td>\n      <td>3.5</td>\n      <td>3.0</td>\n      <td>1.0</td>\n      <td>12.0</td>\n    </tr>\n    <tr>\n      <th>中浙优8号</th>\n      <td>1.411238</td>\n      <td>1.236496</td>\n      <td>1.129366</td>\n      <td>0.846693</td>\n      <td>0.910293</td>\n      <td>5.534086</td>\n      <td>[543.0]</td>\n      <td>1.0</td>\n      <td>5.0</td>\n      <td>3.0</td>\n      <td>14.0</td>\n      <td>13.0</td>\n      <td>6.0</td>\n      <td>14.0</td>\n    </tr>\n    <tr>\n      <th>宜优727</th>\n      <td>1.220649</td>\n      <td>0.885071</td>\n      <td>1.077696</td>\n      <td>1.376203</td>\n      <td>1.189151</td>\n      <td>5.748770</td>\n      <td>[658.0]</td>\n      <td>3.0</td>\n      <td>15.5</td>\n      <td>10.0</td>\n      <td>3.5</td>\n      <td>8.0</td>\n      <td>3.0</td>\n      <td>3.0</td>\n    </tr>\n    <tr>\n      <th>宜香3724</th>\n      <td>0.141124</td>\n      <td>0.715866</td>\n      <td>1.038574</td>\n      <td>1.376203</td>\n      <td>0.750030</td>\n      <td>4.021798</td>\n      <td>[585.0]</td>\n      <td>19.0</td>\n      <td>19.0</td>\n      <td>15.0</td>\n      <td>3.5</td>\n      <td>16.5</td>\n      <td>19.0</td>\n      <td>10.0</td>\n    </tr>\n    <tr>\n      <th>野香优油丝</th>\n      <td>1.214656</td>\n      <td>0.885071</td>\n      <td>1.182513</td>\n      <td>1.243826</td>\n      <td>1.070556</td>\n      <td>5.596621</td>\n      <td>[473.0]</td>\n      <td>4.0</td>\n      <td>15.5</td>\n      <td>1.0</td>\n      <td>7.0</td>\n      <td>10.0</td>\n      <td>5.0</td>\n      <td>19.0</td>\n    </tr>\n    <tr>\n      <th>宜优1988</th>\n      <td>0.950947</td>\n      <td>0.937134</td>\n      <td>0.947044</td>\n      <td>0.610772</td>\n      <td>1.326336</td>\n      <td>4.772233</td>\n      <td>[624.0]</td>\n      <td>15.0</td>\n      <td>14.0</td>\n      <td>19.0</td>\n      <td>17.0</td>\n      <td>2.0</td>\n      <td>13.0</td>\n      <td>6.5</td>\n    </tr>\n    <tr>\n      <th>宜香优1108</th>\n      <td>0.968928</td>\n      <td>1.236496</td>\n      <td>1.041527</td>\n      <td>0.971206</td>\n      <td>1.291078</td>\n      <td>5.509235</td>\n      <td>[624.0]</td>\n      <td>14.0</td>\n      <td>5.0</td>\n      <td>14.0</td>\n      <td>11.0</td>\n      <td>6.5</td>\n      <td>8.0</td>\n      <td>6.5</td>\n    </tr>\n    <tr>\n      <th>川优3727</th>\n      <td>1.120759</td>\n      <td>1.236496</td>\n      <td>1.108698</td>\n      <td>0.964653</td>\n      <td>1.292360</td>\n      <td>5.722967</td>\n      <td>[587.0]</td>\n      <td>9.0</td>\n      <td>5.0</td>\n      <td>6.0</td>\n      <td>12.0</td>\n      <td>5.0</td>\n      <td>4.0</td>\n      <td>9.0</td>\n    </tr>\n    <tr>\n      <th>宜香优5979</th>\n      <td>1.170704</td>\n      <td>0.123650</td>\n      <td>1.082125</td>\n      <td>1.034119</td>\n      <td>1.330182</td>\n      <td>4.740779</td>\n      <td>[696.0]</td>\n      <td>7.5</td>\n      <td>20.0</td>\n      <td>9.0</td>\n      <td>10.0</td>\n      <td>1.0</td>\n      <td>14.0</td>\n      <td>1.0</td>\n    </tr>\n    <tr>\n      <th>宜香1979</th>\n      <td>1.246620</td>\n      <td>1.015228</td>\n      <td>1.104269</td>\n      <td>0.758878</td>\n      <td>1.145559</td>\n      <td>5.270555</td>\n      <td>[641.0]</td>\n      <td>2.0</td>\n      <td>11.0</td>\n      <td>8.0</td>\n      <td>15.0</td>\n      <td>9.0</td>\n      <td>9.0</td>\n      <td>5.0</td>\n    </tr>\n    <tr>\n      <th>旌Ⅱ优华珍</th>\n      <td>1.170704</td>\n      <td>0.754913</td>\n      <td>1.118294</td>\n      <td>0.104854</td>\n      <td>1.044914</td>\n      <td>4.193680</td>\n      <td>[651.0]</td>\n      <td>7.5</td>\n      <td>18.0</td>\n      <td>5.0</td>\n      <td>20.0</td>\n      <td>11.0</td>\n      <td>18.0</td>\n      <td>4.0</td>\n    </tr>\n    <tr>\n      <th>泰优808</th>\n      <td>1.194678</td>\n      <td>1.236496</td>\n      <td>1.107222</td>\n      <td>0.137620</td>\n      <td>1.291078</td>\n      <td>4.967094</td>\n      <td>[502.0]</td>\n      <td>5.0</td>\n      <td>5.0</td>\n      <td>7.0</td>\n      <td>19.0</td>\n      <td>6.5</td>\n      <td>11.0</td>\n      <td>17.0</td>\n    </tr>\n    <tr>\n      <th>德优3301</th>\n      <td>0.908994</td>\n      <td>1.236496</td>\n      <td>1.138224</td>\n      <td>0.671063</td>\n      <td>0.750030</td>\n      <td>4.704808</td>\n      <td>[588.0]</td>\n      <td>17.0</td>\n      <td>5.0</td>\n      <td>2.0</td>\n      <td>16.0</td>\n      <td>16.5</td>\n      <td>15.0</td>\n      <td>8.0</td>\n    </tr>\n    <tr>\n      <th>野香优1701</th>\n      <td>0.097892</td>\n      <td>1.236496</td>\n      <td>0.118251</td>\n      <td>1.376203</td>\n      <td>0.115389</td>\n      <td>2.944232</td>\n      <td>[506.0]</td>\n      <td>20.0</td>\n      <td>5.0</td>\n      <td>20.0</td>\n      <td>3.5</td>\n      <td>20.0</td>\n      <td>20.0</td>\n      <td>16.0</td>\n    </tr>\n    <tr>\n      <th>裕优华占</th>\n      <td>1.110771</td>\n      <td>0.872055</td>\n      <td>1.052599</td>\n      <td>0.959410</td>\n      <td>0.871830</td>\n      <td>4.866665</td>\n      <td>[492.0]</td>\n      <td>10.0</td>\n      <td>17.0</td>\n      <td>12.0</td>\n      <td>13.0</td>\n      <td>15.0</td>\n      <td>12.0</td>\n      <td>18.0</td>\n    </tr>\n    <tr>\n      <th>晶两优1206</th>\n      <td>0.924976</td>\n      <td>1.028244</td>\n      <td>1.008310</td>\n      <td>1.376203</td>\n      <td>0.133018</td>\n      <td>4.470752</td>\n      <td>[680.0]</td>\n      <td>16.0</td>\n      <td>10.0</td>\n      <td>18.0</td>\n      <td>3.5</td>\n      <td>19.0</td>\n      <td>16.0</td>\n      <td>2.0</td>\n    </tr>\n    <tr>\n      <th>川康优6107</th>\n      <td>0.725197</td>\n      <td>0.989197</td>\n      <td>1.051861</td>\n      <td>0.595044</td>\n      <td>0.878241</td>\n      <td>4.239540</td>\n      <td>[531.0]</td>\n      <td>18.0</td>\n      <td>13.0</td>\n      <td>13.0</td>\n      <td>18.0</td>\n      <td>14.0</td>\n      <td>17.0</td>\n      <td>15.0</td>\n    </tr>\n    <tr>\n      <th>桃湘优莉晶</th>\n      <td>1.022868</td>\n      <td>1.236496</td>\n      <td>1.009786</td>\n      <td>1.128487</td>\n      <td>0.724388</td>\n      <td>5.122025</td>\n      <td>[440.0]</td>\n      <td>12.0</td>\n      <td>5.0</td>\n      <td>17.0</td>\n      <td>9.0</td>\n      <td>18.0</td>\n      <td>10.0</td>\n      <td>20.0</td>\n    </tr>\n  </tbody>\n</table>\n</div>"
     },
     "execution_count": 260,
     "metadata": {},
     "output_type": "execute_result"
    }
   ],
   "source": [
    "U\n",
    "\n"
   ],
   "metadata": {
    "collapsed": false,
    "pycharm": {
     "name": "#%%\n"
    }
   }
  }
 ],
 "metadata": {
  "kernelspec": {
   "display_name": "PyCharm (Project)",
   "language": "python",
   "name": "pycharm-c21a72c6"
  },
  "language_info": {
   "codemirror_mode": {
    "name": "ipython",
    "version": 2
   },
   "file_extension": ".py",
   "mimetype": "text/x-python",
   "name": "python",
   "nbconvert_exporter": "python",
   "pygments_lexer": "ipython2",
   "version": "2.7.6"
  }
 },
 "nbformat": 4,
 "nbformat_minor": 0
}
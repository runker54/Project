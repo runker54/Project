{
 "cells": [
  {
   "cell_type": "code",
   "execution_count": 254,
   "metadata": {
    "collapsed": true
   },
   "outputs": [],
   "source": [
    "import openpyxl\n",
    "import pandas as pd\n",
    "import numpy as np\n",
    "import time\n",
    "path = r\"C:\\Users\\65680\\Desktop\\第五章数据分析之排序-罗甸县.xls\"\n",
    "data = pd.ExcelFile(path)\n",
    "df = data.parse(\"品种筛选小区\")\n",
    "df.set_index(\"材料\",inplace=True)"
   ]
  },
  {
   "cell_type": "code",
   "execution_count": 255,
   "outputs": [],
   "source": [
    "colmns1 = list(df.columns)\n",
    "colmns = list(df.columns)[:-1]"
   ],
   "metadata": {
    "collapsed": false,
    "pycharm": {
     "name": "#%%\n"
    }
   }
  },
  {
   "cell_type": "code",
   "execution_count": 256,
   "outputs": [],
   "source": [
    "for i in colmns:\n",
    "    max = np.max(df[i])\n",
    "    min = np.min(df[i])\n",
    "    rax = max-min\n",
    "    df[i] = (max-df[i])/rax\n",
    "df[df==0] = 0.1"
   ],
   "metadata": {
    "collapsed": false,
    "pycharm": {
     "name": "#%%"
    }
   }
  },
  {
   "cell_type": "code",
   "execution_count": 257,
   "outputs": [],
   "source": [
    "for i in colmns:\n",
    "    # 计算指标总和\n",
    "    Sum = np.sum(df[i])\n",
    "    # 计算各地区某一指标占比\n",
    "    df[i] = df[i] / Sum\n",
    "# 计算指标信息熵\n",
    "E = []\n",
    "for i in colmns:\n",
    "    # k值\n",
    "    k = 1/np.log(len(colmns))\n",
    "    # 信息熵\n",
    "    x = -k*np.sum(df[i]*np.log(df[i]))\n",
    "    E.append(x)\n",
    "Ez = np.array(E)\n",
    "# 差异系数\n",
    "gj = 1-Ez"
   ],
   "metadata": {
    "collapsed": false,
    "pycharm": {
     "name": "#%%\n"
    }
   }
  },
  {
   "cell_type": "code",
   "execution_count": 258,
   "outputs": [],
   "source": [
    "wj = gj/np.sum(gj)"
   ],
   "metadata": {
    "collapsed": false,
    "pycharm": {
     "name": "#%%\n"
    }
   }
  },
  {
   "cell_type": "code",
   "execution_count": 259,
   "outputs": [],
   "source": [
    "U = []\n",
    "for i in range(1, len(df) + 1):\n",
    "    # 获取样本各个指标的值\n",
    "    yv = df[i - 1:i].values.tolist()[0]\n",
    "    yv_t = np.array(yv[:len(yv)-1])\n",
    "    u1 = yv_t * wj * 100\n",
    "    u1 = u1.tolist()\n",
    "    # u1 = u1[0]\n",
    "    u2 = np.sum(yv_t * wj) * 100\n",
    "    # 转换为列表\n",
    "    u2 = np.array([u2])\n",
    "    u2 = u2.tolist()\n",
    "    # 各指标得分 和 综合得分\n",
    "    w11 = u1 + u2+ [yv[-1:]]\n",
    "    U.append(w11)\n",
    "# 获取样本列表\n",
    "area = list(df.index)\n",
    "# 生成数据框\n",
    "U = pd.DataFrame(U, index=area)\n",
    "# 重新设置列名称\n",
    "U.columns = colmns1 + ['综合得分']\n",
    "\n",
    "# 为各个指标得分排名\n",
    "for i in colmns1:\n",
    "    i1 = i + '  排名'\n",
    "    U[i1] = U[i].rank(ascending=False)\n",
    "# 为样本综合得分排名\n",
    "U['综合得分  排名'] = U['综合得分'].rank(ascending=False)"
   ],
   "metadata": {
    "collapsed": false,
    "pycharm": {
     "name": "#%%\n"
    }
   }
  },
  {
   "cell_type": "code",
   "execution_count": 260,
   "outputs": [
    {
     "data": {
      "text/plain": "         镉含量（mg/kg）  汞含量（mg/kg）  砷含量（mg/kg）  铅含量（mg/kg）  铬含量（mg/kg）  产量（kg/亩）  \\\n野香优海丝      1.182691    1.236496    1.023073    1.228098    1.304540  5.974898   \n宜优1787     0.996897    1.002213    1.125676    1.376203    1.019272  5.520260   \n宜香优2115    1.094788    1.236496    1.064409    1.376203    1.307104  6.079001   \n中浙优8号      1.411238    1.236496    1.129366    0.846693    0.910293  5.534086   \n宜优727      1.220649    0.885071    1.077696    1.376203    1.189151  5.748770   \n宜香3724     0.141124    0.715866    1.038574    1.376203    0.750030  4.021798   \n野香优油丝      1.214656    0.885071    1.182513    1.243826    1.070556  5.596621   \n宜优1988     0.950947    0.937134    0.947044    0.610772    1.326336  4.772233   \n宜香优1108    0.968928    1.236496    1.041527    0.971206    1.291078  5.509235   \n川优3727     1.120759    1.236496    1.108698    0.964653    1.292360  5.722967   \n宜香优5979    1.170704    0.123650    1.082125    1.034119    1.330182  4.740779   \n宜香1979     1.246620    1.015228    1.104269    0.758878    1.145559  5.270555   \n旌Ⅱ优华珍      1.170704    0.754913    1.118294    0.104854    1.044914  4.193680   \n泰优808      1.194678    1.236496    1.107222    0.137620    1.291078  4.967094   \n德优3301     0.908994    1.236496    1.138224    0.671063    0.750030  4.704808   \n野香优1701    0.097892    1.236496    0.118251    1.376203    0.115389  2.944232   \n裕优华占       1.110771    0.872055    1.052599    0.959410    0.871830  4.866665   \n晶两优1206    0.924976    1.028244    1.008310    1.376203    0.133018  4.470752   \n川康优6107    0.725197    0.989197    1.051861    0.595044    0.878241  4.239540   \n桃湘优莉晶      1.022868    1.236496    1.009786    1.128487    0.724388  5.122025   \n\n            综合得分  镉含量（mg/kg）  排名  汞含量（mg/kg）  排名  砷含量（mg/kg）  排名  \\\n野香优海丝    [565.0]             6.0             5.0            16.0   \n宜优1787   [545.0]            13.0            12.0             4.0   \n宜香优2115  [560.0]            11.0             5.0            11.0   \n中浙优8号    [543.0]             1.0             5.0             3.0   \n宜优727    [658.0]             3.0            15.5            10.0   \n宜香3724   [585.0]            19.0            19.0            15.0   \n野香优油丝    [473.0]             4.0            15.5             1.0   \n宜优1988   [624.0]            15.0            14.0            19.0   \n宜香优1108  [624.0]            14.0             5.0            14.0   \n川优3727   [587.0]             9.0             5.0             6.0   \n宜香优5979  [696.0]             7.5            20.0             9.0   \n宜香1979   [641.0]             2.0            11.0             8.0   \n旌Ⅱ优华珍    [651.0]             7.5            18.0             5.0   \n泰优808    [502.0]             5.0             5.0             7.0   \n德优3301   [588.0]            17.0             5.0             2.0   \n野香优1701  [506.0]            20.0             5.0            20.0   \n裕优华占     [492.0]            10.0            17.0            12.0   \n晶两优1206  [680.0]            16.0            10.0            18.0   \n川康优6107  [531.0]            18.0            13.0            13.0   \n桃湘优莉晶    [440.0]            12.0             5.0            17.0   \n\n         铅含量（mg/kg）  排名  铬含量（mg/kg）  排名  产量（kg/亩）  排名  综合得分  排名  \n野香优海丝               8.0             4.0           2.0      11.0  \n宜优1787              3.5            12.0           7.0      13.0  \n宜香优2115             3.5             3.0           1.0      12.0  \n中浙优8号              14.0            13.0           6.0      14.0  \n宜优727               3.5             8.0           3.0       3.0  \n宜香3724              3.5            16.5          19.0      10.0  \n野香优油丝               7.0            10.0           5.0      19.0  \n宜优1988             17.0             2.0          13.0       6.5  \n宜香优1108            11.0             6.5           8.0       6.5  \n川优3727             12.0             5.0           4.0       9.0  \n宜香优5979            10.0             1.0          14.0       1.0  \n宜香1979             15.0             9.0           9.0       5.0  \n旌Ⅱ优华珍              20.0            11.0          18.0       4.0  \n泰优808              19.0             6.5          11.0      17.0  \n德优3301             16.0            16.5          15.0       8.0  \n野香优1701             3.5            20.0          20.0      16.0  \n裕优华占               13.0            15.0          12.0      18.0  \n晶两优1206             3.5            19.0          16.0       2.0  \n川康优6107            18.0            14.0          17.0      15.0  \n桃湘优莉晶               9.0            18.0          10.0      20.0  ",
      "text/html": "<div>\n<style scoped>\n    .dataframe tbody tr th:only-of-type {\n        vertical-align: middle;\n    }\n\n    .dataframe tbody tr th {\n        vertical-align: top;\n    }\n\n    .dataframe thead th {\n        text-align: right;\n    }\n</style>\n<table border=\"1\" class=\"dataframe\">\n  <thead>\n    <tr style=\"text-align: right;\">\n      <th></th>\n      <th>镉含量（mg/kg）</th>\n      <th>汞含量（mg/kg）</th>\n      <th>砷含量（mg/kg）</th>\n      <th>铅含量（mg/kg）</th>\n      <th>铬含量（mg/kg）</th>\n      <th>产量（kg/亩）</th>\n      <th>综合得分</th>\n      <th>镉含量（mg/kg）  排名</th>\n      <th>汞含量（mg/kg）  排名</th>\n      <th>砷含量（mg/kg）  排名</th>\n      <th>铅含量（mg/kg）  排名</th>\n      <th>铬含量（mg/kg）  排名</th>\n      <th>产量（kg/亩）  排名</th>\n      <th>综合得分  排名</th>\n    </tr>\n  </thead>\n  <tbody>\n    <tr>\n      <th>野香优海丝</th>\n      <td>1.182691</td>\n      <td>1.236496</td>\n      <td>1.023073</td>\n      <td>1.228098</td>\n      <td>1.304540</td>\n      <td>5.974898</td>\n      <td>[565.0]</td>\n      <td>6.0</td>\n      <td>5.0</td>\n      <td>16.0</td>\n      <td>8.0</td>\n      <td>4.0</td>\n      <td>2.0</td>\n      <td>11.0</td>\n    </tr>\n    <tr>\n      <th>宜优1787</th>\n      <td>0.996897</td>\n      <td>1.002213</td>\n      <td>1.125676</td>\n      <td>1.376203</td>\n      <td>1.019272</td>\n      <td>5.520260</td>\n      <td>[545.0]</td>\n      <td>13.0</td>\n      <td>12.0</td>\n      <td>4.0</td>\n      <td>3.5</td>\n      <td>12.0</td>\n      <td>7.0</td>\n      <td>13.0</td>\n    </tr>\n    <tr>\n      <th>宜香优2115</th>\n      <td>1.094788</td>\n      <td>1.236496</td>\n      <td>1.064409</td>\n      <td>1.376203</td>\n      <td>1.307104</td>\n      <td>6.079001</td>\n      <td>[560.0]</td>\n      <td>11.0</td>\n      <td>5.0</td>\n      <td>11.0</td>\n      <td>3.5</td>\n      <td>3.0</td>\n      <td>1.0</td>\n      <td>12.0</td>\n    </tr>\n    <tr>\n      <th>中浙优8号</th>\n      <td>1.411238</td>\n      <td>1.236496</td>\n      <td>1.129366</td>\n      <td>0.846693</td>\n      <td>0.910293</td>\n      <td>5.534086</td>\n      <td>[543.0]</td>\n      <td>1.0</td>\n      <td>5.0</td>\n      <td>3.0</td>\n      <td>14.0</td>\n      <td>13.0</td>\n      <td>6.0</td>\n      <td>14.0</td>\n    </tr>\n    <tr>\n      <th>宜优727</th>\n      <td>1.220649</td>\n      <td>0.885071</td>\n      <td>1.077696</td>\n      <td>1.376203</td>\n      <td>1.189151</td>\n      <td>5.748770</td>\n      <td>[658.0]</td>\n      <td>3.0</td>\n      <td>15.5</td>\n      <td>10.0</td>\n      <td>3.5</td>\n      <td>8.0</td>\n      <td>3.0</td>\n      <td>3.0</td>\n    </tr>\n    <tr>\n      <th>宜香3724</th>\n      <td>0.141124</td>\n      <td>0.715866</td>\n      <td>1.038574</td>\n      <td>1.376203</td>\n      <td>0.750030</td>\n      <td>4.021798</td>\n      <td>[585.0]</td>\n      <td>19.0</td>\n      <td>19.0</td>\n      <td>15.0</td>\n      <td>3.5</td>\n      <td>16.5</td>\n      <td>19.0</td>\n      <td>10.0</td>\n    </tr>\n    <tr>\n      <th>野香优油丝</th>\n      <td>1.214656</td>\n      <td>0.885071</td>\n      <td>1.182513</td>\n      <td>1.243826</td>\n      <td>1.070556</td>\n      <td>5.596621</td>\n      <td>[473.0]</td>\n      <td>4.0</td>\n      <td>15.5</td>\n      <td>1.0</td>\n      <td>7.0</td>\n      <td>10.0</td>\n      <td>5.0</td>\n      <td>19.0</td>\n    </tr>\n    <tr>\n      <th>宜优1988</th>\n      <td>0.950947</td>\n      <td>0.937134</td>\n      <td>0.947044</td>\n      <td>0.610772</td>\n      <td>1.326336</td>\n      <td>4.772233</td>\n      <td>[624.0]</td>\n      <td>15.0</td>\n      <td>14.0</td>\n      <td>19.0</td>\n      <td>17.0</td>\n      <td>2.0</td>\n      <td>13.0</td>\n      <td>6.5</td>\n    </tr>\n    <tr>\n      <th>宜香优1108</th>\n      <td>0.968928</td>\n      <td>1.236496</td>\n      <td>1.041527</td>\n      <td>0.971206</td>\n      <td>1.291078</td>\n      <td>5.509235</td>\n      <td>[624.0]</td>\n      <td>14.0</td>\n      <td>5.0</td>\n      <td>14.0</td>\n      <td>11.0</td>\n      <td>6.5</td>\n      <td>8.0</td>\n      <td>6.5</td>\n    </tr>\n    <tr>\n      <th>川优3727</th>\n      <td>1.120759</td>\n      <td>1.236496</td>\n      <td>1.108698</td>\n      <td>0.964653</td>\n      <td>1.292360</td>\n      <td>5.722967</td>\n      <td>[587.0]</td>\n      <td>9.0</td>\n      <td>5.0</td>\n      <td>6.0</td>\n      <td>12.0</td>\n      <td>5.0</td>\n      <td>4.0</td>\n      <td>9.0</td>\n    </tr>\n    <tr>\n      <th>宜香优5979</th>\n      <td>1.170704</td>\n      <td>0.123650</td>\n      <td>1.082125</td>\n      <td>1.034119</td>\n      <td>1.330182</td>\n      <td>4.740779</td>\n      <td>[696.0]</td>\n      <td>7.5</td>\n      <td>20.0</td>\n      <td>9.0</td>\n      <td>10.0</td>\n      <td>1.0</td>\n      <td>14.0</td>\n      <td>1.0</td>\n    </tr>\n    <tr>\n      <th>宜香1979</th>\n      <td>1.246620</td>\n      <td>1.015228</td>\n      <td>1.104269</td>\n      <td>0.758878</td>\n      <td>1.145559</td>\n      <td>5.270555</td>\n      <td>[641.0]</td>\n      <td>2.0</td>\n      <td>11.0</td>\n      <td>8.0</td>\n      <td>15.0</td>\n      <td>9.0</td>\n      <td>9.0</td>\n      <td>5.0</td>\n    </tr>\n    <tr>\n      <th>旌Ⅱ优华珍</th>\n      <td>1.170704</td>\n      <td>0.754913</td>\n      <td>1.118294</td>\n      <td>0.104854</td>\n      <td>1.044914</td>\n      <td>4.193680</td>\n      <td>[651.0]</td>\n      <td>7.5</td>\n      <td>18.0</td>\n      <td>5.0</td>\n      <td>20.0</td>\n      <td>11.0</td>\n      <td>18.0</td>\n      <td>4.0</td>\n    </tr>\n    <tr>\n      <th>泰优808</th>\n      <td>1.194678</td>\n      <td>1.236496</td>\n      <td>1.107222</td>\n      <td>0.137620</td>\n      <td>1.291078</td>\n      <td>4.967094</td>\n      <td>[502.0]</td>\n      <td>5.0</td>\n      <td>5.0</td>\n      <td>7.0</td>\n      <td>19.0</td>\n      <td>6.5</td>\n      <td>11.0</td>\n      <td>17.0</td>\n    </tr>\n    <tr>\n      <th>德优3301</th>\n      <td>0.908994</td>\n      <td>1.236496</td>\n      <td>1.138224</td>\n      <td>0.671063</td>\n      <td>0.750030</td>\n      <td>4.704808</td>\n      <td>[588.0]</td>\n      <td>17.0</td>\n      <td>5.0</td>\n      <td>2.0</td>\n      <td>16.0</td>\n      <td>16.5</td>\n      <td>15.0</td>\n      <td>8.0</td>\n    </tr>\n    <tr>\n      <th>野香优1701</th>\n      <td>0.097892</td>\n      <td>1.236496</td>\n      <td>0.118251</td>\n      <td>1.376203</td>\n      <td>0.115389</td>\n      <td>2.944232</td>\n      <td>[506.0]</td>\n      <td>20.0</td>\n      <td>5.0</td>\n      <td>20.0</td>\n      <td>3.5</td>\n      <td>20.0</td>\n      <td>20.0</td>\n      <td>16.0</td>\n    </tr>\n    <tr>\n      <th>裕优华占</th>\n      <td>1.110771</td>\n      <td>0.872055</td>\n      <td>1.052599</td>\n      <td>0.959410</td>\n      <td>0.871830</td>\n      <td>4.866665</td>\n      <td>[492.0]</td>\n      <td>10.0</td>\n      <td>17.0</td>\n      <td>12.0</td>\n      <td>13.0</td>\n      <td>15.0</td>\n      <td>12.0</td>\n      <td>18.0</td>\n    </tr>\n    <tr>\n      <th>晶两优1206</th>\n      <td>0.924976</td>\n      <td>1.028244</td>\n      <td>1.008310</td>\n      <td>1.376203</td>\n      <td>0.133018</td>\n      <td>4.470752</td>\n      <td>[680.0]</td>\n      <td>16.0</td>\n      <td>10.0</td>\n      <td>18.0</td>\n      <td>3.5</td>\n      <td>19.0</td>\n      <td>16.0</td>\n      <td>2.0</td>\n    </tr>\n    <tr>\n      <th>川康优6107</th>\n      <td>0.725197</td>\n      <td>0.989197</td>\n      <td>1.051861</td>\n      <td>0.595044</td>\n      <td>0.878241</td>\n      <td>4.239540</td>\n      <td>[531.0]</td>\n      <td>18.0</td>\n      <td>13.0</td>\n      <td>13.0</td>\n      <td>18.0</td>\n      <td>14.0</td>\n      <td>17.0</td>\n      <td>15.0</td>\n    </tr>\n    <tr>\n      <th>桃湘优莉晶</th>\n      <td>1.022868</td>\n      <td>1.236496</td>\n      <td>1.009786</td>\n      <td>1.128487</td>\n      <td>0.724388</td>\n      <td>5.122025</td>\n      <td>[440.0]</td>\n      <td>12.0</td>\n      <td>5.0</td>\n      <td>17.0</td>\n      <td>9.0</td>\n      <td>18.0</td>\n      <td>10.0</td>\n      <td>20.0</td>\n    </tr>\n  </tbody>\n</table>\n</div>"
     },
     "execution_count": 260,
     "metadata": {},
     "output_type": "execute_result"
    }
   ],
   "source": [
    "U\n",
    "\n"
   ],
   "metadata": {
    "collapsed": false,
    "pycharm": {
     "name": "#%%\n"
    }
   }
  }
 ],
 "metadata": {
  "kernelspec": {
   "display_name": "PyCharm (Project)",
   "language": "python",
   "name": "pycharm-c21a72c6"
  },
  "language_info": {
   "codemirror_mode": {
    "name": "ipython",
    "version": 2
   },
   "file_extension": ".py",
   "mimetype": "text/x-python",
   "name": "python",
   "nbconvert_exporter": "python",
   "pygments_lexer": "ipython2",
   "version": "2.7.6"
  }
 },
 "nbformat": 4,
 "nbformat_minor": 0
}
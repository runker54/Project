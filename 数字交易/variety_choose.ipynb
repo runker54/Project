{
 "cells": [
  {
   "cell_type": "code",
   "execution_count": 228,
   "outputs": [],
   "source": [
    "import pandas as pd\n",
    "import numpy as np\n",
    "import os\n",
    "import time\n",
    "# 读取数据\n",
    "path = r\"C:\\Users\\65680\\Desktop\\熵值法\"\n",
    "data = pd.ExcelFile(r\"C:\\Users\\65680\\Desktop\\熵值法\\第五章.xlsx\")\n",
    "df = data.parse(\"品种筛选\")\n",
    "df_c = data.parse(\"品种筛选\")"
   ],
   "metadata": {
    "collapsed": false,
    "pycharm": {
     "name": "#%%\n"
    }
   }
  },
  {
   "cell_type": "code",
   "execution_count": 229,
   "outputs": [],
   "source": [
    "df.set_index(\"品种\",inplace=True)\n",
    "df_c.set_index(\"品种\",inplace=True)\n",
    "# 均值采取的列\n",
    "n = list(df.columns)\n",
    "# 熵值法采取的列\n",
    "df1 = df_c[[\"镉\", \"镉-1\",\"小区\", \"大区\", \"成本\"]]\n",
    "k = list(df1.columns)"
   ],
   "metadata": {
    "collapsed": false,
    "pycharm": {
     "name": "#%%\n"
    }
   }
  },
  {
   "cell_type": "code",
   "execution_count": 230,
   "outputs": [],
   "source": [
    "for i in n:\n",
    "    mean = np.mean(df[i])\n",
    "    df[i] = df[i]-mean\n",
    "df[df>=0] = 0\n",
    "df[df<0] = 1"
   ],
   "metadata": {
    "collapsed": false,
    "pycharm": {
     "name": "#%%\n"
    }
   }
  },
  {
   "cell_type": "code",
   "execution_count": 231,
   "outputs": [
    {
     "name": "stderr",
     "output_type": "stream",
     "text": [
      "<ipython-input-231-3c4f7072149c>:8: SettingWithCopyWarning: \n",
      "A value is trying to be set on a copy of a slice from a DataFrame.\n",
      "Try using .loc[row_indexer,col_indexer] = value instead\n",
      "\n",
      "See the caveats in the documentation: https://pandas.pydata.org/pandas-docs/stable/user_guide/indexing.html#returning-a-view-versus-a-copy\n",
      "  df1[i] = (Max - df1[i]) / (Max - Min)\n",
      "D:\\Program Files\\Python\\lib\\site-packages\\pandas\\core\\frame.py:4383: SettingWithCopyWarning: \n",
      "A value is trying to be set on a copy of a slice from a DataFrame\n",
      "\n",
      "See the caveats in the documentation: https://pandas.pydata.org/pandas-docs/stable/user_guide/indexing.html#returning-a-view-versus-a-copy\n",
      "  return super().replace(\n"
     ]
    }
   ],
   "source": [
    "for i in k:\n",
    "    # 获取各个指标的最大值和最小值\n",
    "    Max = np.max(df1[i])\n",
    "    Min = np.min(df1[i])\n",
    "    if i in [\"小区\", \"大区\"]:\n",
    "        df1[i] = (df1[i] - Min) / (Max - Min)\n",
    "    else:\n",
    "        df1[i] = (Max - df1[i]) / (Max - Min)\n",
    "df1.replace(0, 0.0001, inplace=True)\n"
   ],
   "metadata": {
    "collapsed": false,
    "pycharm": {
     "name": "#%%\n"
    }
   }
  },
  {
   "cell_type": "code",
   "execution_count": 232,
   "outputs": [
    {
     "name": "stderr",
     "output_type": "stream",
     "text": [
      "<ipython-input-232-50c975fe052c>:5: SettingWithCopyWarning: \n",
      "A value is trying to be set on a copy of a slice from a DataFrame.\n",
      "Try using .loc[row_indexer,col_indexer] = value instead\n",
      "\n",
      "See the caveats in the documentation: https://pandas.pydata.org/pandas-docs/stable/user_guide/indexing.html#returning-a-view-versus-a-copy\n",
      "  df1[i] = df1[i] / Sum\n"
     ]
    }
   ],
   "source": [
    "for i in k:\n",
    "    # 计算指标总和\n",
    "    Sum = np.sum(df1[i])\n",
    "    # 计算各地区某一指标占比\n",
    "    df1[i] = df1[i] / Sum\n",
    "# 地区总数\n",
    "m = len(df1)\n",
    "E = []\n",
    "# 计算信息熵值\n",
    "for i in k:\n",
    "    K = 1 / np.log(m)\n",
    "    e = - K * np.sum(df1[i] * np.log(df1[i]))\n",
    "    E.append(e)\n",
    "# 转换为数组形式\n",
    "E = np.array(E)\n",
    "# 计算效用价值\n",
    "D = 1 - E\n",
    "W = D / np.sum(D)\n",
    "# 转换形式\n",
    "W = np.array([W])\n",
    "# 保存 权重 为excel格式\n",
    "W1 = pd.DataFrame(W.T, index=k)\n",
    "U = []\n",
    "for i in range(1, len(df1) + 1):\n",
    "    # 获取样本各个指标的值\n",
    "    y = df1[i - 1:i].values\n",
    "    u1 = y * W * 100\n",
    "    # 转换为列表\n",
    "    u1 = u1.tolist()\n",
    "    u1 = u1[0]\n",
    "\n",
    "    # 计算样本综合得分\n",
    "    ## 因前文构建了数据权重矩阵，故最后综合得分总和为100\n",
    "    u = np.sum(y * W) * 100\n",
    "    # 转换为列表\n",
    "    u = np.array([u])\n",
    "    u = u.tolist()\n",
    "    # 各指标得分 和 综合得分\n",
    "    u = u1 + u\n",
    "    U.append(u)\n",
    "# 获取样本列表\n",
    "area = list(df1.index)\n",
    "# 生成数据框\n",
    "U = pd.DataFrame(U, index=area)\n",
    "# 重新设置列名称\n",
    "U.columns = k + ['综合得分']\n",
    "# 为各个指标得分排名\n",
    "for i in k:\n",
    "    i1 = i + '  排名'\n",
    "    U[i1] = U[i].rank(ascending=False)\n",
    "# 为样本综合得分排名\n",
    "U['综合得分  排名'] = U['综合得分'].rank(ascending=False)"
   ],
   "metadata": {
    "collapsed": false,
    "pycharm": {
     "name": "#%%\n"
    }
   }
  },
  {
   "cell_type": "code",
   "execution_count": 233,
   "outputs": [],
   "source": [
    "since = df[df[\"镉\"]==0]\n",
    "since = pd.DataFrame(since)"
   ],
   "metadata": {
    "collapsed": false,
    "pycharm": {
     "name": "#%%\n"
    }
   }
  },
  {
   "cell_type": "code",
   "execution_count": 234,
   "outputs": [],
   "source": [
    "since2 = df[df[\"镉-1\"]==0]\n",
    "since2 = pd.DataFrame(since2)\n"
   ],
   "metadata": {
    "collapsed": false,
    "pycharm": {
     "name": "#%%\n"
    }
   }
  },
  {
   "cell_type": "code",
   "execution_count": 235,
   "outputs": [],
   "source": [
    "wr = pd.ExcelWriter(os.path.join(path,\"品种筛选.xlsx\"))\n",
    "since.to_excel(wr,sheet_name=\"小区\")\n",
    "since2.to_excel(wr,sheet_name=\"大区\")\n",
    "W1.to_excel(wr,sheet_name=\"熵值法权重\")\n",
    "U.to_excel(wr,sheet_name=\"熵值法综合得分\")\n",
    "wr.save()\n",
    "wr.close()"
   ],
   "metadata": {
    "collapsed": false,
    "pycharm": {
     "name": "#%%\n"
    }
   }
  }
 ],
 "metadata": {
  "kernelspec": {
   "name": "pycharm-c21a72c6",
   "language": "python",
   "display_name": "PyCharm (Project)"
  },
  "language_info": {
   "codemirror_mode": {
    "name": "ipython",
    "version": 2
   },
   "file_extension": ".py",
   "mimetype": "text/x-python",
   "name": "python",
   "nbconvert_exporter": "python",
   "pygments_lexer": "ipython2",
   "version": "2.7.6"
  }
 },
 "nbformat": 4,
 "nbformat_minor": 0
}
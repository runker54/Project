{
 "cells": [
  {
   "cell_type": "code",
   "execution_count": 159,
   "metadata": {
    "collapsed": true
   },
   "outputs": [],
   "source": [
    "import openpyxl\n",
    "import pandas as pd\n",
    "import numpy as np\n",
    "path = r\"C:\\Users\\65680\\Desktop\\播州区农产品.xls\"\n",
    "data = pd.ExcelFile(path)\n",
    "df = data.parse(\"品种筛选\")"
   ]
  },
  {
   "cell_type": "code",
   "execution_count": 160,
   "outputs": [
    {
     "data": {
      "text/plain": "          区域            编号       品种       镉       汞        砷       铅       铬  \\\n0    原位钝化试验区  520304210175  宜香优2115  0.0524  0.0041  0.00100  0.0778  0.1450   \n1      原位钝化区  520304210188  宜香优2115  0.2780  0.0015  0.01710  0.1180  0.0857   \n2      原位钝化区  520304210189  宜香优2115  0.0208  0.0044  0.05270  0.1630  0.4930   \n3      原位钝化区  520304210190  宜香优2115     NaN  0.0015  0.00100  0.0683  0.0865   \n4      原位钝化区  520304210191  宜香优2115  0.0194  0.0061  0.04370  0.0348  0.0732   \n..       ...           ...      ...     ...     ...      ...     ...     ...   \n115    原位钝化区  520304210319  宜香优2115  0.0369  0.0015  0.09720  0.1010  0.1510   \n116    原位钝化区  520304210320  宜香优2115  0.0304  0.0015  0.01880  0.0540  0.1400   \n117    原位钝化区  520304210322  宜香优2115  0.0316  0.0015  0.05060  0.1540  0.1270   \n118  原位钝化试验区  520304210369  宜香优2115  0.0270  0.0015  0.04290  0.0608  0.1050   \n119  原位钝化试验区  520304210372  宜香优2115  0.2450  0.0015  0.00929  0.0322  0.0578   \n\n           硒   锗  镉level  汞level  砷level  铅level  铬level  zh        材料  区域类型  \n0     0.0917  ND       1       1       1       1       1   1   天象土壤调理剂  措施小区  \n1     0.0162  ND       2       1       1       1       1   2   天象土壤调理剂   处理区  \n2         ND  ND       1       1       1       1       1   1   天象土壤调理剂   处理区  \n3     0.0187  ND       1       1       1       1       1   1   天象土壤调理剂   处理区  \n4     0.0306  ND       1       1       1       1       1   1   天象土壤调理剂   处理区  \n..       ...  ..     ...     ...     ...     ...     ...  ..       ...   ...  \n115   0.0212  ND       1       1       1       1       1   1  凹凸棒土壤调理剂   处理区  \n116   0.0476  ND       1       1       1       1       1   1  凹凸棒土壤调理剂   处理区  \n117   0.0299  ND       1       1       1       1       1   1  凹凸棒土壤调理剂   处理区  \n118   0.0701  ND       1       1       1       1       1   1  凹凸棒土壤调理剂  措施小区  \n119  0.00131  ND       2       1       1       1       1   2  凹凸棒土壤调理剂  措施小区  \n\n[120 rows x 18 columns]",
      "text/html": "<div>\n<style scoped>\n    .dataframe tbody tr th:only-of-type {\n        vertical-align: middle;\n    }\n\n    .dataframe tbody tr th {\n        vertical-align: top;\n    }\n\n    .dataframe thead th {\n        text-align: right;\n    }\n</style>\n<table border=\"1\" class=\"dataframe\">\n  <thead>\n    <tr style=\"text-align: right;\">\n      <th></th>\n      <th>区域</th>\n      <th>编号</th>\n      <th>品种</th>\n      <th>镉</th>\n      <th>汞</th>\n      <th>砷</th>\n      <th>铅</th>\n      <th>铬</th>\n      <th>硒</th>\n      <th>锗</th>\n      <th>镉level</th>\n      <th>汞level</th>\n      <th>砷level</th>\n      <th>铅level</th>\n      <th>铬level</th>\n      <th>zh</th>\n      <th>材料</th>\n      <th>区域类型</th>\n    </tr>\n  </thead>\n  <tbody>\n    <tr>\n      <th>0</th>\n      <td>原位钝化试验区</td>\n      <td>520304210175</td>\n      <td>宜香优2115</td>\n      <td>0.0524</td>\n      <td>0.0041</td>\n      <td>0.00100</td>\n      <td>0.0778</td>\n      <td>0.1450</td>\n      <td>0.0917</td>\n      <td>ND</td>\n      <td>1</td>\n      <td>1</td>\n      <td>1</td>\n      <td>1</td>\n      <td>1</td>\n      <td>1</td>\n      <td>天象土壤调理剂</td>\n      <td>措施小区</td>\n    </tr>\n    <tr>\n      <th>1</th>\n      <td>原位钝化区</td>\n      <td>520304210188</td>\n      <td>宜香优2115</td>\n      <td>0.2780</td>\n      <td>0.0015</td>\n      <td>0.01710</td>\n      <td>0.1180</td>\n      <td>0.0857</td>\n      <td>0.0162</td>\n      <td>ND</td>\n      <td>2</td>\n      <td>1</td>\n      <td>1</td>\n      <td>1</td>\n      <td>1</td>\n      <td>2</td>\n      <td>天象土壤调理剂</td>\n      <td>处理区</td>\n    </tr>\n    <tr>\n      <th>2</th>\n      <td>原位钝化区</td>\n      <td>520304210189</td>\n      <td>宜香优2115</td>\n      <td>0.0208</td>\n      <td>0.0044</td>\n      <td>0.05270</td>\n      <td>0.1630</td>\n      <td>0.4930</td>\n      <td>ND</td>\n      <td>ND</td>\n      <td>1</td>\n      <td>1</td>\n      <td>1</td>\n      <td>1</td>\n      <td>1</td>\n      <td>1</td>\n      <td>天象土壤调理剂</td>\n      <td>处理区</td>\n    </tr>\n    <tr>\n      <th>3</th>\n      <td>原位钝化区</td>\n      <td>520304210190</td>\n      <td>宜香优2115</td>\n      <td>NaN</td>\n      <td>0.0015</td>\n      <td>0.00100</td>\n      <td>0.0683</td>\n      <td>0.0865</td>\n      <td>0.0187</td>\n      <td>ND</td>\n      <td>1</td>\n      <td>1</td>\n      <td>1</td>\n      <td>1</td>\n      <td>1</td>\n      <td>1</td>\n      <td>天象土壤调理剂</td>\n      <td>处理区</td>\n    </tr>\n    <tr>\n      <th>4</th>\n      <td>原位钝化区</td>\n      <td>520304210191</td>\n      <td>宜香优2115</td>\n      <td>0.0194</td>\n      <td>0.0061</td>\n      <td>0.04370</td>\n      <td>0.0348</td>\n      <td>0.0732</td>\n      <td>0.0306</td>\n      <td>ND</td>\n      <td>1</td>\n      <td>1</td>\n      <td>1</td>\n      <td>1</td>\n      <td>1</td>\n      <td>1</td>\n      <td>天象土壤调理剂</td>\n      <td>处理区</td>\n    </tr>\n    <tr>\n      <th>...</th>\n      <td>...</td>\n      <td>...</td>\n      <td>...</td>\n      <td>...</td>\n      <td>...</td>\n      <td>...</td>\n      <td>...</td>\n      <td>...</td>\n      <td>...</td>\n      <td>...</td>\n      <td>...</td>\n      <td>...</td>\n      <td>...</td>\n      <td>...</td>\n      <td>...</td>\n      <td>...</td>\n      <td>...</td>\n      <td>...</td>\n    </tr>\n    <tr>\n      <th>115</th>\n      <td>原位钝化区</td>\n      <td>520304210319</td>\n      <td>宜香优2115</td>\n      <td>0.0369</td>\n      <td>0.0015</td>\n      <td>0.09720</td>\n      <td>0.1010</td>\n      <td>0.1510</td>\n      <td>0.0212</td>\n      <td>ND</td>\n      <td>1</td>\n      <td>1</td>\n      <td>1</td>\n      <td>1</td>\n      <td>1</td>\n      <td>1</td>\n      <td>凹凸棒土壤调理剂</td>\n      <td>处理区</td>\n    </tr>\n    <tr>\n      <th>116</th>\n      <td>原位钝化区</td>\n      <td>520304210320</td>\n      <td>宜香优2115</td>\n      <td>0.0304</td>\n      <td>0.0015</td>\n      <td>0.01880</td>\n      <td>0.0540</td>\n      <td>0.1400</td>\n      <td>0.0476</td>\n      <td>ND</td>\n      <td>1</td>\n      <td>1</td>\n      <td>1</td>\n      <td>1</td>\n      <td>1</td>\n      <td>1</td>\n      <td>凹凸棒土壤调理剂</td>\n      <td>处理区</td>\n    </tr>\n    <tr>\n      <th>117</th>\n      <td>原位钝化区</td>\n      <td>520304210322</td>\n      <td>宜香优2115</td>\n      <td>0.0316</td>\n      <td>0.0015</td>\n      <td>0.05060</td>\n      <td>0.1540</td>\n      <td>0.1270</td>\n      <td>0.0299</td>\n      <td>ND</td>\n      <td>1</td>\n      <td>1</td>\n      <td>1</td>\n      <td>1</td>\n      <td>1</td>\n      <td>1</td>\n      <td>凹凸棒土壤调理剂</td>\n      <td>处理区</td>\n    </tr>\n    <tr>\n      <th>118</th>\n      <td>原位钝化试验区</td>\n      <td>520304210369</td>\n      <td>宜香优2115</td>\n      <td>0.0270</td>\n      <td>0.0015</td>\n      <td>0.04290</td>\n      <td>0.0608</td>\n      <td>0.1050</td>\n      <td>0.0701</td>\n      <td>ND</td>\n      <td>1</td>\n      <td>1</td>\n      <td>1</td>\n      <td>1</td>\n      <td>1</td>\n      <td>1</td>\n      <td>凹凸棒土壤调理剂</td>\n      <td>措施小区</td>\n    </tr>\n    <tr>\n      <th>119</th>\n      <td>原位钝化试验区</td>\n      <td>520304210372</td>\n      <td>宜香优2115</td>\n      <td>0.2450</td>\n      <td>0.0015</td>\n      <td>0.00929</td>\n      <td>0.0322</td>\n      <td>0.0578</td>\n      <td>0.00131</td>\n      <td>ND</td>\n      <td>2</td>\n      <td>1</td>\n      <td>1</td>\n      <td>1</td>\n      <td>1</td>\n      <td>2</td>\n      <td>凹凸棒土壤调理剂</td>\n      <td>措施小区</td>\n    </tr>\n  </tbody>\n</table>\n<p>120 rows × 18 columns</p>\n</div>"
     },
     "execution_count": 160,
     "metadata": {},
     "output_type": "execute_result"
    }
   ],
   "source": [
    "df"
   ],
   "metadata": {
    "collapsed": false,
    "pycharm": {
     "name": "#%%\n"
    }
   }
  },
  {
   "cell_type": "code",
   "execution_count": 161,
   "outputs": [],
   "source": [
    "rows_list = list(df[\"材料\"])\n",
    "rows = list(set(list(df[\"材料\"])))"
   ],
   "metadata": {
    "collapsed": false,
    "pycharm": {
     "name": "#%%\n"
    }
   }
  },
  {
   "cell_type": "code",
   "execution_count": 162,
   "outputs": [
    {
     "data": {
      "text/plain": "          区域            编号       品种       镉       汞        砷       铅       铬  \\\n0    原位钝化试验区  520304210175  宜香优2115  0.0524  0.0041  0.00100  0.0778  0.1450   \n1      原位钝化区  520304210188  宜香优2115  0.2780  0.0015  0.01710  0.1180  0.0857   \n2      原位钝化区  520304210189  宜香优2115  0.0208  0.0044  0.05270  0.1630  0.4930   \n3      原位钝化区  520304210190  宜香优2115     NaN  0.0015  0.00100  0.0683  0.0865   \n4      原位钝化区  520304210191  宜香优2115  0.0194  0.0061  0.04370  0.0348  0.0732   \n..       ...           ...      ...     ...     ...      ...     ...     ...   \n115    原位钝化区  520304210319  宜香优2115  0.0369  0.0015  0.09720  0.1010  0.1510   \n116    原位钝化区  520304210320  宜香优2115  0.0304  0.0015  0.01880  0.0540  0.1400   \n117    原位钝化区  520304210322  宜香优2115  0.0316  0.0015  0.05060  0.1540  0.1270   \n118  原位钝化试验区  520304210369  宜香优2115  0.0270  0.0015  0.04290  0.0608  0.1050   \n119  原位钝化试验区  520304210372  宜香优2115  0.2450  0.0015  0.00929  0.0322  0.0578   \n\n           硒   锗  镉level  汞level  砷level  铅level  铬level  zh        材料  区域类型  \n0     0.0917  ND       1       1       1       1       1   1   天象土壤调理剂  措施小区  \n1     0.0162  ND       2       1       1       1       1   2   天象土壤调理剂   处理区  \n2         ND  ND       1       1       1       1       1   1   天象土壤调理剂   处理区  \n3     0.0187  ND       1       1       1       1       1   1   天象土壤调理剂   处理区  \n4     0.0306  ND       1       1       1       1       1   1   天象土壤调理剂   处理区  \n..       ...  ..     ...     ...     ...     ...     ...  ..       ...   ...  \n115   0.0212  ND       1       1       1       1       1   1  凹凸棒土壤调理剂   处理区  \n116   0.0476  ND       1       1       1       1       1   1  凹凸棒土壤调理剂   处理区  \n117   0.0299  ND       1       1       1       1       1   1  凹凸棒土壤调理剂   处理区  \n118   0.0701  ND       1       1       1       1       1   1  凹凸棒土壤调理剂  措施小区  \n119  0.00131  ND       2       1       1       1       1   2  凹凸棒土壤调理剂  措施小区  \n\n[120 rows x 18 columns]",
      "text/html": "<div>\n<style scoped>\n    .dataframe tbody tr th:only-of-type {\n        vertical-align: middle;\n    }\n\n    .dataframe tbody tr th {\n        vertical-align: top;\n    }\n\n    .dataframe thead th {\n        text-align: right;\n    }\n</style>\n<table border=\"1\" class=\"dataframe\">\n  <thead>\n    <tr style=\"text-align: right;\">\n      <th></th>\n      <th>区域</th>\n      <th>编号</th>\n      <th>品种</th>\n      <th>镉</th>\n      <th>汞</th>\n      <th>砷</th>\n      <th>铅</th>\n      <th>铬</th>\n      <th>硒</th>\n      <th>锗</th>\n      <th>镉level</th>\n      <th>汞level</th>\n      <th>砷level</th>\n      <th>铅level</th>\n      <th>铬level</th>\n      <th>zh</th>\n      <th>材料</th>\n      <th>区域类型</th>\n    </tr>\n  </thead>\n  <tbody>\n    <tr>\n      <th>0</th>\n      <td>原位钝化试验区</td>\n      <td>520304210175</td>\n      <td>宜香优2115</td>\n      <td>0.0524</td>\n      <td>0.0041</td>\n      <td>0.00100</td>\n      <td>0.0778</td>\n      <td>0.1450</td>\n      <td>0.0917</td>\n      <td>ND</td>\n      <td>1</td>\n      <td>1</td>\n      <td>1</td>\n      <td>1</td>\n      <td>1</td>\n      <td>1</td>\n      <td>天象土壤调理剂</td>\n      <td>措施小区</td>\n    </tr>\n    <tr>\n      <th>1</th>\n      <td>原位钝化区</td>\n      <td>520304210188</td>\n      <td>宜香优2115</td>\n      <td>0.2780</td>\n      <td>0.0015</td>\n      <td>0.01710</td>\n      <td>0.1180</td>\n      <td>0.0857</td>\n      <td>0.0162</td>\n      <td>ND</td>\n      <td>2</td>\n      <td>1</td>\n      <td>1</td>\n      <td>1</td>\n      <td>1</td>\n      <td>2</td>\n      <td>天象土壤调理剂</td>\n      <td>处理区</td>\n    </tr>\n    <tr>\n      <th>2</th>\n      <td>原位钝化区</td>\n      <td>520304210189</td>\n      <td>宜香优2115</td>\n      <td>0.0208</td>\n      <td>0.0044</td>\n      <td>0.05270</td>\n      <td>0.1630</td>\n      <td>0.4930</td>\n      <td>ND</td>\n      <td>ND</td>\n      <td>1</td>\n      <td>1</td>\n      <td>1</td>\n      <td>1</td>\n      <td>1</td>\n      <td>1</td>\n      <td>天象土壤调理剂</td>\n      <td>处理区</td>\n    </tr>\n    <tr>\n      <th>3</th>\n      <td>原位钝化区</td>\n      <td>520304210190</td>\n      <td>宜香优2115</td>\n      <td>NaN</td>\n      <td>0.0015</td>\n      <td>0.00100</td>\n      <td>0.0683</td>\n      <td>0.0865</td>\n      <td>0.0187</td>\n      <td>ND</td>\n      <td>1</td>\n      <td>1</td>\n      <td>1</td>\n      <td>1</td>\n      <td>1</td>\n      <td>1</td>\n      <td>天象土壤调理剂</td>\n      <td>处理区</td>\n    </tr>\n    <tr>\n      <th>4</th>\n      <td>原位钝化区</td>\n      <td>520304210191</td>\n      <td>宜香优2115</td>\n      <td>0.0194</td>\n      <td>0.0061</td>\n      <td>0.04370</td>\n      <td>0.0348</td>\n      <td>0.0732</td>\n      <td>0.0306</td>\n      <td>ND</td>\n      <td>1</td>\n      <td>1</td>\n      <td>1</td>\n      <td>1</td>\n      <td>1</td>\n      <td>1</td>\n      <td>天象土壤调理剂</td>\n      <td>处理区</td>\n    </tr>\n    <tr>\n      <th>...</th>\n      <td>...</td>\n      <td>...</td>\n      <td>...</td>\n      <td>...</td>\n      <td>...</td>\n      <td>...</td>\n      <td>...</td>\n      <td>...</td>\n      <td>...</td>\n      <td>...</td>\n      <td>...</td>\n      <td>...</td>\n      <td>...</td>\n      <td>...</td>\n      <td>...</td>\n      <td>...</td>\n      <td>...</td>\n      <td>...</td>\n    </tr>\n    <tr>\n      <th>115</th>\n      <td>原位钝化区</td>\n      <td>520304210319</td>\n      <td>宜香优2115</td>\n      <td>0.0369</td>\n      <td>0.0015</td>\n      <td>0.09720</td>\n      <td>0.1010</td>\n      <td>0.1510</td>\n      <td>0.0212</td>\n      <td>ND</td>\n      <td>1</td>\n      <td>1</td>\n      <td>1</td>\n      <td>1</td>\n      <td>1</td>\n      <td>1</td>\n      <td>凹凸棒土壤调理剂</td>\n      <td>处理区</td>\n    </tr>\n    <tr>\n      <th>116</th>\n      <td>原位钝化区</td>\n      <td>520304210320</td>\n      <td>宜香优2115</td>\n      <td>0.0304</td>\n      <td>0.0015</td>\n      <td>0.01880</td>\n      <td>0.0540</td>\n      <td>0.1400</td>\n      <td>0.0476</td>\n      <td>ND</td>\n      <td>1</td>\n      <td>1</td>\n      <td>1</td>\n      <td>1</td>\n      <td>1</td>\n      <td>1</td>\n      <td>凹凸棒土壤调理剂</td>\n      <td>处理区</td>\n    </tr>\n    <tr>\n      <th>117</th>\n      <td>原位钝化区</td>\n      <td>520304210322</td>\n      <td>宜香优2115</td>\n      <td>0.0316</td>\n      <td>0.0015</td>\n      <td>0.05060</td>\n      <td>0.1540</td>\n      <td>0.1270</td>\n      <td>0.0299</td>\n      <td>ND</td>\n      <td>1</td>\n      <td>1</td>\n      <td>1</td>\n      <td>1</td>\n      <td>1</td>\n      <td>1</td>\n      <td>凹凸棒土壤调理剂</td>\n      <td>处理区</td>\n    </tr>\n    <tr>\n      <th>118</th>\n      <td>原位钝化试验区</td>\n      <td>520304210369</td>\n      <td>宜香优2115</td>\n      <td>0.0270</td>\n      <td>0.0015</td>\n      <td>0.04290</td>\n      <td>0.0608</td>\n      <td>0.1050</td>\n      <td>0.0701</td>\n      <td>ND</td>\n      <td>1</td>\n      <td>1</td>\n      <td>1</td>\n      <td>1</td>\n      <td>1</td>\n      <td>1</td>\n      <td>凹凸棒土壤调理剂</td>\n      <td>措施小区</td>\n    </tr>\n    <tr>\n      <th>119</th>\n      <td>原位钝化试验区</td>\n      <td>520304210372</td>\n      <td>宜香优2115</td>\n      <td>0.2450</td>\n      <td>0.0015</td>\n      <td>0.00929</td>\n      <td>0.0322</td>\n      <td>0.0578</td>\n      <td>0.00131</td>\n      <td>ND</td>\n      <td>2</td>\n      <td>1</td>\n      <td>1</td>\n      <td>1</td>\n      <td>1</td>\n      <td>2</td>\n      <td>凹凸棒土壤调理剂</td>\n      <td>措施小区</td>\n    </tr>\n  </tbody>\n</table>\n<p>120 rows × 18 columns</p>\n</div>"
     },
     "execution_count": 162,
     "metadata": {},
     "output_type": "execute_result"
    }
   ],
   "source": [
    "df"
   ],
   "metadata": {
    "collapsed": false,
    "pycharm": {
     "name": "#%%\n"
    }
   }
  },
  {
   "cell_type": "code",
   "execution_count": 163,
   "outputs": [],
   "source": [
    "df[\"镉\"] = df[\"镉\"]/0.2\n",
    "df[\"汞\"] = df[\"汞\"]/0.02\n",
    "df[\"砷\"] = df[\"砷\"]/0.5\n",
    "df[\"铅\"] = df[\"铅\"]/0.2\n",
    "df[\"铬\"] = df[\"铬\"]/1"
   ],
   "metadata": {
    "collapsed": false,
    "pycharm": {
     "name": "#%%\n"
    }
   }
  },
  {
   "cell_type": "code",
   "execution_count": 164,
   "outputs": [
    {
     "data": {
      "text/plain": "          区域            编号       品种       镉      汞        砷       铅       铬  \\\n0    原位钝化试验区  520304210175  宜香优2115  0.2620  0.205  0.00200  0.3890  0.1450   \n1      原位钝化区  520304210188  宜香优2115  1.3900  0.075  0.03420  0.5900  0.0857   \n2      原位钝化区  520304210189  宜香优2115  0.1040  0.220  0.10540  0.8150  0.4930   \n3      原位钝化区  520304210190  宜香优2115     NaN  0.075  0.00200  0.3415  0.0865   \n4      原位钝化区  520304210191  宜香优2115  0.0970  0.305  0.08740  0.1740  0.0732   \n..       ...           ...      ...     ...    ...      ...     ...     ...   \n115    原位钝化区  520304210319  宜香优2115  0.1845  0.075  0.19440  0.5050  0.1510   \n116    原位钝化区  520304210320  宜香优2115  0.1520  0.075  0.03760  0.2700  0.1400   \n117    原位钝化区  520304210322  宜香优2115  0.1580  0.075  0.10120  0.7700  0.1270   \n118  原位钝化试验区  520304210369  宜香优2115  0.1350  0.075  0.08580  0.3040  0.1050   \n119  原位钝化试验区  520304210372  宜香优2115  1.2250  0.075  0.01858  0.1610  0.0578   \n\n           硒   锗  镉level  汞level  砷level  铅level  铬level  zh        材料  区域类型  \n0     0.0917  ND       1       1       1       1       1   1   天象土壤调理剂  措施小区  \n1     0.0162  ND       2       1       1       1       1   2   天象土壤调理剂   处理区  \n2         ND  ND       1       1       1       1       1   1   天象土壤调理剂   处理区  \n3     0.0187  ND       1       1       1       1       1   1   天象土壤调理剂   处理区  \n4     0.0306  ND       1       1       1       1       1   1   天象土壤调理剂   处理区  \n..       ...  ..     ...     ...     ...     ...     ...  ..       ...   ...  \n115   0.0212  ND       1       1       1       1       1   1  凹凸棒土壤调理剂   处理区  \n116   0.0476  ND       1       1       1       1       1   1  凹凸棒土壤调理剂   处理区  \n117   0.0299  ND       1       1       1       1       1   1  凹凸棒土壤调理剂   处理区  \n118   0.0701  ND       1       1       1       1       1   1  凹凸棒土壤调理剂  措施小区  \n119  0.00131  ND       2       1       1       1       1   2  凹凸棒土壤调理剂  措施小区  \n\n[120 rows x 18 columns]",
      "text/html": "<div>\n<style scoped>\n    .dataframe tbody tr th:only-of-type {\n        vertical-align: middle;\n    }\n\n    .dataframe tbody tr th {\n        vertical-align: top;\n    }\n\n    .dataframe thead th {\n        text-align: right;\n    }\n</style>\n<table border=\"1\" class=\"dataframe\">\n  <thead>\n    <tr style=\"text-align: right;\">\n      <th></th>\n      <th>区域</th>\n      <th>编号</th>\n      <th>品种</th>\n      <th>镉</th>\n      <th>汞</th>\n      <th>砷</th>\n      <th>铅</th>\n      <th>铬</th>\n      <th>硒</th>\n      <th>锗</th>\n      <th>镉level</th>\n      <th>汞level</th>\n      <th>砷level</th>\n      <th>铅level</th>\n      <th>铬level</th>\n      <th>zh</th>\n      <th>材料</th>\n      <th>区域类型</th>\n    </tr>\n  </thead>\n  <tbody>\n    <tr>\n      <th>0</th>\n      <td>原位钝化试验区</td>\n      <td>520304210175</td>\n      <td>宜香优2115</td>\n      <td>0.2620</td>\n      <td>0.205</td>\n      <td>0.00200</td>\n      <td>0.3890</td>\n      <td>0.1450</td>\n      <td>0.0917</td>\n      <td>ND</td>\n      <td>1</td>\n      <td>1</td>\n      <td>1</td>\n      <td>1</td>\n      <td>1</td>\n      <td>1</td>\n      <td>天象土壤调理剂</td>\n      <td>措施小区</td>\n    </tr>\n    <tr>\n      <th>1</th>\n      <td>原位钝化区</td>\n      <td>520304210188</td>\n      <td>宜香优2115</td>\n      <td>1.3900</td>\n      <td>0.075</td>\n      <td>0.03420</td>\n      <td>0.5900</td>\n      <td>0.0857</td>\n      <td>0.0162</td>\n      <td>ND</td>\n      <td>2</td>\n      <td>1</td>\n      <td>1</td>\n      <td>1</td>\n      <td>1</td>\n      <td>2</td>\n      <td>天象土壤调理剂</td>\n      <td>处理区</td>\n    </tr>\n    <tr>\n      <th>2</th>\n      <td>原位钝化区</td>\n      <td>520304210189</td>\n      <td>宜香优2115</td>\n      <td>0.1040</td>\n      <td>0.220</td>\n      <td>0.10540</td>\n      <td>0.8150</td>\n      <td>0.4930</td>\n      <td>ND</td>\n      <td>ND</td>\n      <td>1</td>\n      <td>1</td>\n      <td>1</td>\n      <td>1</td>\n      <td>1</td>\n      <td>1</td>\n      <td>天象土壤调理剂</td>\n      <td>处理区</td>\n    </tr>\n    <tr>\n      <th>3</th>\n      <td>原位钝化区</td>\n      <td>520304210190</td>\n      <td>宜香优2115</td>\n      <td>NaN</td>\n      <td>0.075</td>\n      <td>0.00200</td>\n      <td>0.3415</td>\n      <td>0.0865</td>\n      <td>0.0187</td>\n      <td>ND</td>\n      <td>1</td>\n      <td>1</td>\n      <td>1</td>\n      <td>1</td>\n      <td>1</td>\n      <td>1</td>\n      <td>天象土壤调理剂</td>\n      <td>处理区</td>\n    </tr>\n    <tr>\n      <th>4</th>\n      <td>原位钝化区</td>\n      <td>520304210191</td>\n      <td>宜香优2115</td>\n      <td>0.0970</td>\n      <td>0.305</td>\n      <td>0.08740</td>\n      <td>0.1740</td>\n      <td>0.0732</td>\n      <td>0.0306</td>\n      <td>ND</td>\n      <td>1</td>\n      <td>1</td>\n      <td>1</td>\n      <td>1</td>\n      <td>1</td>\n      <td>1</td>\n      <td>天象土壤调理剂</td>\n      <td>处理区</td>\n    </tr>\n    <tr>\n      <th>...</th>\n      <td>...</td>\n      <td>...</td>\n      <td>...</td>\n      <td>...</td>\n      <td>...</td>\n      <td>...</td>\n      <td>...</td>\n      <td>...</td>\n      <td>...</td>\n      <td>...</td>\n      <td>...</td>\n      <td>...</td>\n      <td>...</td>\n      <td>...</td>\n      <td>...</td>\n      <td>...</td>\n      <td>...</td>\n      <td>...</td>\n    </tr>\n    <tr>\n      <th>115</th>\n      <td>原位钝化区</td>\n      <td>520304210319</td>\n      <td>宜香优2115</td>\n      <td>0.1845</td>\n      <td>0.075</td>\n      <td>0.19440</td>\n      <td>0.5050</td>\n      <td>0.1510</td>\n      <td>0.0212</td>\n      <td>ND</td>\n      <td>1</td>\n      <td>1</td>\n      <td>1</td>\n      <td>1</td>\n      <td>1</td>\n      <td>1</td>\n      <td>凹凸棒土壤调理剂</td>\n      <td>处理区</td>\n    </tr>\n    <tr>\n      <th>116</th>\n      <td>原位钝化区</td>\n      <td>520304210320</td>\n      <td>宜香优2115</td>\n      <td>0.1520</td>\n      <td>0.075</td>\n      <td>0.03760</td>\n      <td>0.2700</td>\n      <td>0.1400</td>\n      <td>0.0476</td>\n      <td>ND</td>\n      <td>1</td>\n      <td>1</td>\n      <td>1</td>\n      <td>1</td>\n      <td>1</td>\n      <td>1</td>\n      <td>凹凸棒土壤调理剂</td>\n      <td>处理区</td>\n    </tr>\n    <tr>\n      <th>117</th>\n      <td>原位钝化区</td>\n      <td>520304210322</td>\n      <td>宜香优2115</td>\n      <td>0.1580</td>\n      <td>0.075</td>\n      <td>0.10120</td>\n      <td>0.7700</td>\n      <td>0.1270</td>\n      <td>0.0299</td>\n      <td>ND</td>\n      <td>1</td>\n      <td>1</td>\n      <td>1</td>\n      <td>1</td>\n      <td>1</td>\n      <td>1</td>\n      <td>凹凸棒土壤调理剂</td>\n      <td>处理区</td>\n    </tr>\n    <tr>\n      <th>118</th>\n      <td>原位钝化试验区</td>\n      <td>520304210369</td>\n      <td>宜香优2115</td>\n      <td>0.1350</td>\n      <td>0.075</td>\n      <td>0.08580</td>\n      <td>0.3040</td>\n      <td>0.1050</td>\n      <td>0.0701</td>\n      <td>ND</td>\n      <td>1</td>\n      <td>1</td>\n      <td>1</td>\n      <td>1</td>\n      <td>1</td>\n      <td>1</td>\n      <td>凹凸棒土壤调理剂</td>\n      <td>措施小区</td>\n    </tr>\n    <tr>\n      <th>119</th>\n      <td>原位钝化试验区</td>\n      <td>520304210372</td>\n      <td>宜香优2115</td>\n      <td>1.2250</td>\n      <td>0.075</td>\n      <td>0.01858</td>\n      <td>0.1610</td>\n      <td>0.0578</td>\n      <td>0.00131</td>\n      <td>ND</td>\n      <td>2</td>\n      <td>1</td>\n      <td>1</td>\n      <td>1</td>\n      <td>1</td>\n      <td>2</td>\n      <td>凹凸棒土壤调理剂</td>\n      <td>措施小区</td>\n    </tr>\n  </tbody>\n</table>\n<p>120 rows × 18 columns</p>\n</div>"
     },
     "execution_count": 164,
     "metadata": {},
     "output_type": "execute_result"
    }
   ],
   "source": [
    "df"
   ],
   "metadata": {
    "collapsed": false,
    "pycharm": {
     "name": "#%%\n"
    }
   }
  },
  {
   "cell_type": "code",
   "execution_count": 165,
   "outputs": [],
   "source": [
    "dict_b = {}\n",
    "for one_row in rows:\n",
    "    ele_list = []\n",
    "    for one_ele in [\"镉\", \"汞\", \"砷\", \"铅\", \"铬\"]:\n",
    "        key_value = df.loc[df[\"材料\"] == \"%s\"%one_row,\"%s\"%one_ele].sum()/rows_list.count(\"%s\"%one_row)\n",
    "        ele_list.append(key_value)\n",
    "    ele_list = ele_list+[rows_list.count(\"%s\"%one_row)]\n",
    "    dict_b[one_row] = ele_list"
   ],
   "metadata": {
    "collapsed": false,
    "pycharm": {
     "name": "#%%\n"
    }
   }
  },
  {
   "cell_type": "code",
   "execution_count": 166,
   "outputs": [],
   "source": [
    "U = pd.DataFrame(dict_b)"
   ],
   "metadata": {
    "collapsed": false,
    "pycharm": {
     "name": "#%%\n"
    }
   }
  },
  {
   "cell_type": "code",
   "execution_count": 167,
   "outputs": [],
   "source": [
    "U = pd.DataFrame(U.T)"
   ],
   "metadata": {
    "collapsed": false,
    "pycharm": {
     "name": "#%%\n"
    }
   }
  },
  {
   "cell_type": "code",
   "execution_count": 168,
   "outputs": [
    {
     "data": {
      "text/plain": "                 0         1         2         3         4     5\n改性天然矿物材料  0.173796  0.144130  0.060216  0.305457  0.188900  23.0\n凹凸棒土壤调理剂  0.265629  0.142143  0.095911  0.384343  0.170511  35.0\n对照        0.222938  0.141250  0.094250  0.361625  0.228625   8.0\n含磷型土壤调理剂  0.249567  0.229138  0.092929  0.314914  0.179207  29.0\n天象土壤调理剂   0.213082  0.165600  0.060331  0.345240  0.157076  25.0",
      "text/html": "<div>\n<style scoped>\n    .dataframe tbody tr th:only-of-type {\n        vertical-align: middle;\n    }\n\n    .dataframe tbody tr th {\n        vertical-align: top;\n    }\n\n    .dataframe thead th {\n        text-align: right;\n    }\n</style>\n<table border=\"1\" class=\"dataframe\">\n  <thead>\n    <tr style=\"text-align: right;\">\n      <th></th>\n      <th>0</th>\n      <th>1</th>\n      <th>2</th>\n      <th>3</th>\n      <th>4</th>\n      <th>5</th>\n    </tr>\n  </thead>\n  <tbody>\n    <tr>\n      <th>改性天然矿物材料</th>\n      <td>0.173796</td>\n      <td>0.144130</td>\n      <td>0.060216</td>\n      <td>0.305457</td>\n      <td>0.188900</td>\n      <td>23.0</td>\n    </tr>\n    <tr>\n      <th>凹凸棒土壤调理剂</th>\n      <td>0.265629</td>\n      <td>0.142143</td>\n      <td>0.095911</td>\n      <td>0.384343</td>\n      <td>0.170511</td>\n      <td>35.0</td>\n    </tr>\n    <tr>\n      <th>对照</th>\n      <td>0.222938</td>\n      <td>0.141250</td>\n      <td>0.094250</td>\n      <td>0.361625</td>\n      <td>0.228625</td>\n      <td>8.0</td>\n    </tr>\n    <tr>\n      <th>含磷型土壤调理剂</th>\n      <td>0.249567</td>\n      <td>0.229138</td>\n      <td>0.092929</td>\n      <td>0.314914</td>\n      <td>0.179207</td>\n      <td>29.0</td>\n    </tr>\n    <tr>\n      <th>天象土壤调理剂</th>\n      <td>0.213082</td>\n      <td>0.165600</td>\n      <td>0.060331</td>\n      <td>0.345240</td>\n      <td>0.157076</td>\n      <td>25.0</td>\n    </tr>\n  </tbody>\n</table>\n</div>"
     },
     "execution_count": 168,
     "metadata": {},
     "output_type": "execute_result"
    }
   ],
   "source": [
    "U.to_excel(r\"C:\\Users\\65680\\Desktop\\播州区农产品_原位钝化结果.xls\")\n"
   ],
   "metadata": {
    "collapsed": false,
    "pycharm": {
     "name": "#%%\n"
    }
   }
  }
 ],
 "metadata": {
  "kernelspec": {
   "display_name": "PyCharm (Project)",
   "language": "python",
   "name": "pycharm-c21a72c6"
  },
  "language_info": {
   "codemirror_mode": {
    "name": "ipython",
    "version": 2
   },
   "file_extension": ".py",
   "mimetype": "text/x-python",
   "name": "python",
   "nbconvert_exporter": "python",
   "pygments_lexer": "ipython2",
   "version": "2.7.6"
  }
 },
 "nbformat": 4,
 "nbformat_minor": 0
}
{
 "cells": [
  {
   "cell_type": "code",
   "execution_count": 126,
   "metadata": {
    "collapsed": true
   },
   "outputs": [],
   "source": [
    "import openpyxl\n",
    "import pandas as pd\n",
    "import numpy as np\n",
    "name = \"综合技术\"\n",
    "path = r\"C:\\Users\\65680\\Desktop\\联合攻关区.xlsx\"\n",
    "data = pd.ExcelFile(path)\n",
    "df = data.parse(\"%s\"%name)"
   ]
  },
  {
   "cell_type": "code",
   "execution_count": 127,
   "outputs": [
    {
     "data": {
      "text/plain": "                  材料        镉       汞        砷       铅       铬       硒   锗  \\\n0     楚戈土壤调理剂+降镉灵阻控剂  0.04990  0.0015  0.00100  0.2670  0.3830  0.1200  ND   \n1     楚戈土壤调理剂+降镉灵阻控剂  0.01430  0.0038  0.03000  0.0100  0.0652  0.0259  ND   \n2     楚戈土壤调理剂+降镉灵阻控剂  0.00263  0.0015  0.07020  0.0387  0.0015  0.0625  ND   \n3   楚戈土壤调理剂+美鑫隆叶面阻控剂  0.03360  0.0064  0.02480  0.0100  0.0634  0.0280  ND   \n4   楚戈土壤调理剂+美鑫隆叶面阻控剂  0.02110  0.0036  0.07160  0.0100  0.0015  0.0198  ND   \n5   楚戈土壤调理剂+美鑫隆叶面阻控剂  0.06220  0.0015  0.00100  0.1360  0.1950  0.0050  ND   \n6                 对照  0.03070  0.0015  0.07360  0.0100  0.1740  0.0379  ND   \n7     天象土壤调理剂+降镉灵阻控剂  0.02090  0.0015  0.01860  0.0100  0.0645  0.0401  ND   \n8     天象土壤调理剂+降镉灵阻控剂  0.00100  0.0015  0.00100  0.0100  0.0641  0.0493  ND   \n9     天象土壤调理剂+降镉灵阻控剂  0.02230  0.0015  0.04350  0.0100  0.0714  0.0179  ND   \n10  天象土壤调理剂+美鑫隆叶面阻控剂  0.01080  0.0074  0.01820  0.0100  0.0517  0.0233  ND   \n11  天象土壤调理剂+美鑫隆叶面阻控剂  0.00100  0.0015  0.08020  0.0100  0.1190  0.0253  ND   \n12  天象土壤调理剂+美鑫隆叶面阻控剂  0.06040  0.0015  0.05440  0.0100  0.1370  0.0288  ND   \n13  楚戈土壤调理剂+美鑫隆叶面阻控剂  0.00100  0.0048  0.07250  0.0100  0.1050  0.0175  ND   \n14  楚戈土壤调理剂+美鑫隆叶面阻控剂  0.01390  0.0015  0.03240  0.0100  0.0935  0.0366  ND   \n15  楚戈土壤调理剂+美鑫隆叶面阻控剂  0.03040  0.0015  0.00100  0.0333  0.0848  0.0405  ND   \n16  天象土壤调理剂+美鑫隆叶面阻控剂  0.00100  0.0042  0.07250  0.0100  0.1040  0.0209  ND   \n17  天象土壤调理剂+美鑫隆叶面阻控剂  0.00424  0.0034  0.01100  0.0100  0.0015  0.0050  ND   \n18    楚戈土壤调理剂+降镉灵阻控剂  0.01430  0.0015  0.00100  0.0392  0.0518  0.0518  ND   \n19                对照  0.00100  0.0015  0.00722  0.0230  0.1190  0.0050  ND   \n20    天象土壤调理剂+降镉灵阻控剂  0.03880  0.0033  0.02990  0.0209  0.0015  0.0149  ND   \n21  天象土壤调理剂+美鑫隆叶面阻控剂  0.00419  0.0015  0.01020  0.0100  0.0015  0.0050  ND   \n22                对照  0.01640  0.0038  0.00100  0.0545  0.0613  0.0213  ND   \n23    楚戈土壤调理剂+降镉灵阻控剂  0.19600  0.0015  0.51900  0.0100  0.6010  0.0614  ND   \n24    天象土壤调理剂+降镉灵阻控剂  0.04830  0.0042  0.00100  0.0100  0.0199  0.0050  ND   \n25    楚戈土壤调理剂+降镉灵阻控剂  0.01740  0.0034  0.00100  0.0100  0.1010  0.0050  ND   \n26                对照  0.00712  0.0015  0.00358  0.0100  0.1410  0.0246  ND   \n27    天象土壤调理剂+降镉灵阻控剂  0.00763  0.0015  0.00565  0.0100  0.0015  0.0050  ND   \n\n    安全等级_五综合  \n0          2  \n1          1  \n2          1  \n3          1  \n4          1  \n5          1  \n6          1  \n7          1  \n8          1  \n9          1  \n10         1  \n11         1  \n12         1  \n13         1  \n14         1  \n15         1  \n16         1  \n17         1  \n18         1  \n19         1  \n20         1  \n21         1  \n22         1  \n23         2  \n24         1  \n25         1  \n26         1  \n27         1  ",
      "text/html": "<div>\n<style scoped>\n    .dataframe tbody tr th:only-of-type {\n        vertical-align: middle;\n    }\n\n    .dataframe tbody tr th {\n        vertical-align: top;\n    }\n\n    .dataframe thead th {\n        text-align: right;\n    }\n</style>\n<table border=\"1\" class=\"dataframe\">\n  <thead>\n    <tr style=\"text-align: right;\">\n      <th></th>\n      <th>材料</th>\n      <th>镉</th>\n      <th>汞</th>\n      <th>砷</th>\n      <th>铅</th>\n      <th>铬</th>\n      <th>硒</th>\n      <th>锗</th>\n      <th>安全等级_五综合</th>\n    </tr>\n  </thead>\n  <tbody>\n    <tr>\n      <th>0</th>\n      <td>楚戈土壤调理剂+降镉灵阻控剂</td>\n      <td>0.04990</td>\n      <td>0.0015</td>\n      <td>0.00100</td>\n      <td>0.2670</td>\n      <td>0.3830</td>\n      <td>0.1200</td>\n      <td>ND</td>\n      <td>2</td>\n    </tr>\n    <tr>\n      <th>1</th>\n      <td>楚戈土壤调理剂+降镉灵阻控剂</td>\n      <td>0.01430</td>\n      <td>0.0038</td>\n      <td>0.03000</td>\n      <td>0.0100</td>\n      <td>0.0652</td>\n      <td>0.0259</td>\n      <td>ND</td>\n      <td>1</td>\n    </tr>\n    <tr>\n      <th>2</th>\n      <td>楚戈土壤调理剂+降镉灵阻控剂</td>\n      <td>0.00263</td>\n      <td>0.0015</td>\n      <td>0.07020</td>\n      <td>0.0387</td>\n      <td>0.0015</td>\n      <td>0.0625</td>\n      <td>ND</td>\n      <td>1</td>\n    </tr>\n    <tr>\n      <th>3</th>\n      <td>楚戈土壤调理剂+美鑫隆叶面阻控剂</td>\n      <td>0.03360</td>\n      <td>0.0064</td>\n      <td>0.02480</td>\n      <td>0.0100</td>\n      <td>0.0634</td>\n      <td>0.0280</td>\n      <td>ND</td>\n      <td>1</td>\n    </tr>\n    <tr>\n      <th>4</th>\n      <td>楚戈土壤调理剂+美鑫隆叶面阻控剂</td>\n      <td>0.02110</td>\n      <td>0.0036</td>\n      <td>0.07160</td>\n      <td>0.0100</td>\n      <td>0.0015</td>\n      <td>0.0198</td>\n      <td>ND</td>\n      <td>1</td>\n    </tr>\n    <tr>\n      <th>5</th>\n      <td>楚戈土壤调理剂+美鑫隆叶面阻控剂</td>\n      <td>0.06220</td>\n      <td>0.0015</td>\n      <td>0.00100</td>\n      <td>0.1360</td>\n      <td>0.1950</td>\n      <td>0.0050</td>\n      <td>ND</td>\n      <td>1</td>\n    </tr>\n    <tr>\n      <th>6</th>\n      <td>对照</td>\n      <td>0.03070</td>\n      <td>0.0015</td>\n      <td>0.07360</td>\n      <td>0.0100</td>\n      <td>0.1740</td>\n      <td>0.0379</td>\n      <td>ND</td>\n      <td>1</td>\n    </tr>\n    <tr>\n      <th>7</th>\n      <td>天象土壤调理剂+降镉灵阻控剂</td>\n      <td>0.02090</td>\n      <td>0.0015</td>\n      <td>0.01860</td>\n      <td>0.0100</td>\n      <td>0.0645</td>\n      <td>0.0401</td>\n      <td>ND</td>\n      <td>1</td>\n    </tr>\n    <tr>\n      <th>8</th>\n      <td>天象土壤调理剂+降镉灵阻控剂</td>\n      <td>0.00100</td>\n      <td>0.0015</td>\n      <td>0.00100</td>\n      <td>0.0100</td>\n      <td>0.0641</td>\n      <td>0.0493</td>\n      <td>ND</td>\n      <td>1</td>\n    </tr>\n    <tr>\n      <th>9</th>\n      <td>天象土壤调理剂+降镉灵阻控剂</td>\n      <td>0.02230</td>\n      <td>0.0015</td>\n      <td>0.04350</td>\n      <td>0.0100</td>\n      <td>0.0714</td>\n      <td>0.0179</td>\n      <td>ND</td>\n      <td>1</td>\n    </tr>\n    <tr>\n      <th>10</th>\n      <td>天象土壤调理剂+美鑫隆叶面阻控剂</td>\n      <td>0.01080</td>\n      <td>0.0074</td>\n      <td>0.01820</td>\n      <td>0.0100</td>\n      <td>0.0517</td>\n      <td>0.0233</td>\n      <td>ND</td>\n      <td>1</td>\n    </tr>\n    <tr>\n      <th>11</th>\n      <td>天象土壤调理剂+美鑫隆叶面阻控剂</td>\n      <td>0.00100</td>\n      <td>0.0015</td>\n      <td>0.08020</td>\n      <td>0.0100</td>\n      <td>0.1190</td>\n      <td>0.0253</td>\n      <td>ND</td>\n      <td>1</td>\n    </tr>\n    <tr>\n      <th>12</th>\n      <td>天象土壤调理剂+美鑫隆叶面阻控剂</td>\n      <td>0.06040</td>\n      <td>0.0015</td>\n      <td>0.05440</td>\n      <td>0.0100</td>\n      <td>0.1370</td>\n      <td>0.0288</td>\n      <td>ND</td>\n      <td>1</td>\n    </tr>\n    <tr>\n      <th>13</th>\n      <td>楚戈土壤调理剂+美鑫隆叶面阻控剂</td>\n      <td>0.00100</td>\n      <td>0.0048</td>\n      <td>0.07250</td>\n      <td>0.0100</td>\n      <td>0.1050</td>\n      <td>0.0175</td>\n      <td>ND</td>\n      <td>1</td>\n    </tr>\n    <tr>\n      <th>14</th>\n      <td>楚戈土壤调理剂+美鑫隆叶面阻控剂</td>\n      <td>0.01390</td>\n      <td>0.0015</td>\n      <td>0.03240</td>\n      <td>0.0100</td>\n      <td>0.0935</td>\n      <td>0.0366</td>\n      <td>ND</td>\n      <td>1</td>\n    </tr>\n    <tr>\n      <th>15</th>\n      <td>楚戈土壤调理剂+美鑫隆叶面阻控剂</td>\n      <td>0.03040</td>\n      <td>0.0015</td>\n      <td>0.00100</td>\n      <td>0.0333</td>\n      <td>0.0848</td>\n      <td>0.0405</td>\n      <td>ND</td>\n      <td>1</td>\n    </tr>\n    <tr>\n      <th>16</th>\n      <td>天象土壤调理剂+美鑫隆叶面阻控剂</td>\n      <td>0.00100</td>\n      <td>0.0042</td>\n      <td>0.07250</td>\n      <td>0.0100</td>\n      <td>0.1040</td>\n      <td>0.0209</td>\n      <td>ND</td>\n      <td>1</td>\n    </tr>\n    <tr>\n      <th>17</th>\n      <td>天象土壤调理剂+美鑫隆叶面阻控剂</td>\n      <td>0.00424</td>\n      <td>0.0034</td>\n      <td>0.01100</td>\n      <td>0.0100</td>\n      <td>0.0015</td>\n      <td>0.0050</td>\n      <td>ND</td>\n      <td>1</td>\n    </tr>\n    <tr>\n      <th>18</th>\n      <td>楚戈土壤调理剂+降镉灵阻控剂</td>\n      <td>0.01430</td>\n      <td>0.0015</td>\n      <td>0.00100</td>\n      <td>0.0392</td>\n      <td>0.0518</td>\n      <td>0.0518</td>\n      <td>ND</td>\n      <td>1</td>\n    </tr>\n    <tr>\n      <th>19</th>\n      <td>对照</td>\n      <td>0.00100</td>\n      <td>0.0015</td>\n      <td>0.00722</td>\n      <td>0.0230</td>\n      <td>0.1190</td>\n      <td>0.0050</td>\n      <td>ND</td>\n      <td>1</td>\n    </tr>\n    <tr>\n      <th>20</th>\n      <td>天象土壤调理剂+降镉灵阻控剂</td>\n      <td>0.03880</td>\n      <td>0.0033</td>\n      <td>0.02990</td>\n      <td>0.0209</td>\n      <td>0.0015</td>\n      <td>0.0149</td>\n      <td>ND</td>\n      <td>1</td>\n    </tr>\n    <tr>\n      <th>21</th>\n      <td>天象土壤调理剂+美鑫隆叶面阻控剂</td>\n      <td>0.00419</td>\n      <td>0.0015</td>\n      <td>0.01020</td>\n      <td>0.0100</td>\n      <td>0.0015</td>\n      <td>0.0050</td>\n      <td>ND</td>\n      <td>1</td>\n    </tr>\n    <tr>\n      <th>22</th>\n      <td>对照</td>\n      <td>0.01640</td>\n      <td>0.0038</td>\n      <td>0.00100</td>\n      <td>0.0545</td>\n      <td>0.0613</td>\n      <td>0.0213</td>\n      <td>ND</td>\n      <td>1</td>\n    </tr>\n    <tr>\n      <th>23</th>\n      <td>楚戈土壤调理剂+降镉灵阻控剂</td>\n      <td>0.19600</td>\n      <td>0.0015</td>\n      <td>0.51900</td>\n      <td>0.0100</td>\n      <td>0.6010</td>\n      <td>0.0614</td>\n      <td>ND</td>\n      <td>2</td>\n    </tr>\n    <tr>\n      <th>24</th>\n      <td>天象土壤调理剂+降镉灵阻控剂</td>\n      <td>0.04830</td>\n      <td>0.0042</td>\n      <td>0.00100</td>\n      <td>0.0100</td>\n      <td>0.0199</td>\n      <td>0.0050</td>\n      <td>ND</td>\n      <td>1</td>\n    </tr>\n    <tr>\n      <th>25</th>\n      <td>楚戈土壤调理剂+降镉灵阻控剂</td>\n      <td>0.01740</td>\n      <td>0.0034</td>\n      <td>0.00100</td>\n      <td>0.0100</td>\n      <td>0.1010</td>\n      <td>0.0050</td>\n      <td>ND</td>\n      <td>1</td>\n    </tr>\n    <tr>\n      <th>26</th>\n      <td>对照</td>\n      <td>0.00712</td>\n      <td>0.0015</td>\n      <td>0.00358</td>\n      <td>0.0100</td>\n      <td>0.1410</td>\n      <td>0.0246</td>\n      <td>ND</td>\n      <td>1</td>\n    </tr>\n    <tr>\n      <th>27</th>\n      <td>天象土壤调理剂+降镉灵阻控剂</td>\n      <td>0.00763</td>\n      <td>0.0015</td>\n      <td>0.00565</td>\n      <td>0.0100</td>\n      <td>0.0015</td>\n      <td>0.0050</td>\n      <td>ND</td>\n      <td>1</td>\n    </tr>\n  </tbody>\n</table>\n</div>"
     },
     "execution_count": 127,
     "metadata": {},
     "output_type": "execute_result"
    }
   ],
   "source": [
    "df"
   ],
   "metadata": {
    "collapsed": false,
    "pycharm": {
     "name": "#%%\n"
    }
   }
  },
  {
   "cell_type": "code",
   "execution_count": 128,
   "outputs": [],
   "source": [
    "rows_list = list(df[\"材料\"])\n",
    "rows = list(set(list(df[\"材料\"])))"
   ],
   "metadata": {
    "collapsed": false,
    "pycharm": {
     "name": "#%%\n"
    }
   }
  },
  {
   "cell_type": "code",
   "execution_count": 129,
   "outputs": [
    {
     "data": {
      "text/plain": "                  材料        镉       汞        砷       铅       铬       硒   锗  \\\n0     楚戈土壤调理剂+降镉灵阻控剂  0.04990  0.0015  0.00100  0.2670  0.3830  0.1200  ND   \n1     楚戈土壤调理剂+降镉灵阻控剂  0.01430  0.0038  0.03000  0.0100  0.0652  0.0259  ND   \n2     楚戈土壤调理剂+降镉灵阻控剂  0.00263  0.0015  0.07020  0.0387  0.0015  0.0625  ND   \n3   楚戈土壤调理剂+美鑫隆叶面阻控剂  0.03360  0.0064  0.02480  0.0100  0.0634  0.0280  ND   \n4   楚戈土壤调理剂+美鑫隆叶面阻控剂  0.02110  0.0036  0.07160  0.0100  0.0015  0.0198  ND   \n5   楚戈土壤调理剂+美鑫隆叶面阻控剂  0.06220  0.0015  0.00100  0.1360  0.1950  0.0050  ND   \n6                 对照  0.03070  0.0015  0.07360  0.0100  0.1740  0.0379  ND   \n7     天象土壤调理剂+降镉灵阻控剂  0.02090  0.0015  0.01860  0.0100  0.0645  0.0401  ND   \n8     天象土壤调理剂+降镉灵阻控剂  0.00100  0.0015  0.00100  0.0100  0.0641  0.0493  ND   \n9     天象土壤调理剂+降镉灵阻控剂  0.02230  0.0015  0.04350  0.0100  0.0714  0.0179  ND   \n10  天象土壤调理剂+美鑫隆叶面阻控剂  0.01080  0.0074  0.01820  0.0100  0.0517  0.0233  ND   \n11  天象土壤调理剂+美鑫隆叶面阻控剂  0.00100  0.0015  0.08020  0.0100  0.1190  0.0253  ND   \n12  天象土壤调理剂+美鑫隆叶面阻控剂  0.06040  0.0015  0.05440  0.0100  0.1370  0.0288  ND   \n13  楚戈土壤调理剂+美鑫隆叶面阻控剂  0.00100  0.0048  0.07250  0.0100  0.1050  0.0175  ND   \n14  楚戈土壤调理剂+美鑫隆叶面阻控剂  0.01390  0.0015  0.03240  0.0100  0.0935  0.0366  ND   \n15  楚戈土壤调理剂+美鑫隆叶面阻控剂  0.03040  0.0015  0.00100  0.0333  0.0848  0.0405  ND   \n16  天象土壤调理剂+美鑫隆叶面阻控剂  0.00100  0.0042  0.07250  0.0100  0.1040  0.0209  ND   \n17  天象土壤调理剂+美鑫隆叶面阻控剂  0.00424  0.0034  0.01100  0.0100  0.0015  0.0050  ND   \n18    楚戈土壤调理剂+降镉灵阻控剂  0.01430  0.0015  0.00100  0.0392  0.0518  0.0518  ND   \n19                对照  0.00100  0.0015  0.00722  0.0230  0.1190  0.0050  ND   \n20    天象土壤调理剂+降镉灵阻控剂  0.03880  0.0033  0.02990  0.0209  0.0015  0.0149  ND   \n21  天象土壤调理剂+美鑫隆叶面阻控剂  0.00419  0.0015  0.01020  0.0100  0.0015  0.0050  ND   \n22                对照  0.01640  0.0038  0.00100  0.0545  0.0613  0.0213  ND   \n23    楚戈土壤调理剂+降镉灵阻控剂  0.19600  0.0015  0.51900  0.0100  0.6010  0.0614  ND   \n24    天象土壤调理剂+降镉灵阻控剂  0.04830  0.0042  0.00100  0.0100  0.0199  0.0050  ND   \n25    楚戈土壤调理剂+降镉灵阻控剂  0.01740  0.0034  0.00100  0.0100  0.1010  0.0050  ND   \n26                对照  0.00712  0.0015  0.00358  0.0100  0.1410  0.0246  ND   \n27    天象土壤调理剂+降镉灵阻控剂  0.00763  0.0015  0.00565  0.0100  0.0015  0.0050  ND   \n\n    安全等级_五综合  \n0          2  \n1          1  \n2          1  \n3          1  \n4          1  \n5          1  \n6          1  \n7          1  \n8          1  \n9          1  \n10         1  \n11         1  \n12         1  \n13         1  \n14         1  \n15         1  \n16         1  \n17         1  \n18         1  \n19         1  \n20         1  \n21         1  \n22         1  \n23         2  \n24         1  \n25         1  \n26         1  \n27         1  ",
      "text/html": "<div>\n<style scoped>\n    .dataframe tbody tr th:only-of-type {\n        vertical-align: middle;\n    }\n\n    .dataframe tbody tr th {\n        vertical-align: top;\n    }\n\n    .dataframe thead th {\n        text-align: right;\n    }\n</style>\n<table border=\"1\" class=\"dataframe\">\n  <thead>\n    <tr style=\"text-align: right;\">\n      <th></th>\n      <th>材料</th>\n      <th>镉</th>\n      <th>汞</th>\n      <th>砷</th>\n      <th>铅</th>\n      <th>铬</th>\n      <th>硒</th>\n      <th>锗</th>\n      <th>安全等级_五综合</th>\n    </tr>\n  </thead>\n  <tbody>\n    <tr>\n      <th>0</th>\n      <td>楚戈土壤调理剂+降镉灵阻控剂</td>\n      <td>0.04990</td>\n      <td>0.0015</td>\n      <td>0.00100</td>\n      <td>0.2670</td>\n      <td>0.3830</td>\n      <td>0.1200</td>\n      <td>ND</td>\n      <td>2</td>\n    </tr>\n    <tr>\n      <th>1</th>\n      <td>楚戈土壤调理剂+降镉灵阻控剂</td>\n      <td>0.01430</td>\n      <td>0.0038</td>\n      <td>0.03000</td>\n      <td>0.0100</td>\n      <td>0.0652</td>\n      <td>0.0259</td>\n      <td>ND</td>\n      <td>1</td>\n    </tr>\n    <tr>\n      <th>2</th>\n      <td>楚戈土壤调理剂+降镉灵阻控剂</td>\n      <td>0.00263</td>\n      <td>0.0015</td>\n      <td>0.07020</td>\n      <td>0.0387</td>\n      <td>0.0015</td>\n      <td>0.0625</td>\n      <td>ND</td>\n      <td>1</td>\n    </tr>\n    <tr>\n      <th>3</th>\n      <td>楚戈土壤调理剂+美鑫隆叶面阻控剂</td>\n      <td>0.03360</td>\n      <td>0.0064</td>\n      <td>0.02480</td>\n      <td>0.0100</td>\n      <td>0.0634</td>\n      <td>0.0280</td>\n      <td>ND</td>\n      <td>1</td>\n    </tr>\n    <tr>\n      <th>4</th>\n      <td>楚戈土壤调理剂+美鑫隆叶面阻控剂</td>\n      <td>0.02110</td>\n      <td>0.0036</td>\n      <td>0.07160</td>\n      <td>0.0100</td>\n      <td>0.0015</td>\n      <td>0.0198</td>\n      <td>ND</td>\n      <td>1</td>\n    </tr>\n    <tr>\n      <th>5</th>\n      <td>楚戈土壤调理剂+美鑫隆叶面阻控剂</td>\n      <td>0.06220</td>\n      <td>0.0015</td>\n      <td>0.00100</td>\n      <td>0.1360</td>\n      <td>0.1950</td>\n      <td>0.0050</td>\n      <td>ND</td>\n      <td>1</td>\n    </tr>\n    <tr>\n      <th>6</th>\n      <td>对照</td>\n      <td>0.03070</td>\n      <td>0.0015</td>\n      <td>0.07360</td>\n      <td>0.0100</td>\n      <td>0.1740</td>\n      <td>0.0379</td>\n      <td>ND</td>\n      <td>1</td>\n    </tr>\n    <tr>\n      <th>7</th>\n      <td>天象土壤调理剂+降镉灵阻控剂</td>\n      <td>0.02090</td>\n      <td>0.0015</td>\n      <td>0.01860</td>\n      <td>0.0100</td>\n      <td>0.0645</td>\n      <td>0.0401</td>\n      <td>ND</td>\n      <td>1</td>\n    </tr>\n    <tr>\n      <th>8</th>\n      <td>天象土壤调理剂+降镉灵阻控剂</td>\n      <td>0.00100</td>\n      <td>0.0015</td>\n      <td>0.00100</td>\n      <td>0.0100</td>\n      <td>0.0641</td>\n      <td>0.0493</td>\n      <td>ND</td>\n      <td>1</td>\n    </tr>\n    <tr>\n      <th>9</th>\n      <td>天象土壤调理剂+降镉灵阻控剂</td>\n      <td>0.02230</td>\n      <td>0.0015</td>\n      <td>0.04350</td>\n      <td>0.0100</td>\n      <td>0.0714</td>\n      <td>0.0179</td>\n      <td>ND</td>\n      <td>1</td>\n    </tr>\n    <tr>\n      <th>10</th>\n      <td>天象土壤调理剂+美鑫隆叶面阻控剂</td>\n      <td>0.01080</td>\n      <td>0.0074</td>\n      <td>0.01820</td>\n      <td>0.0100</td>\n      <td>0.0517</td>\n      <td>0.0233</td>\n      <td>ND</td>\n      <td>1</td>\n    </tr>\n    <tr>\n      <th>11</th>\n      <td>天象土壤调理剂+美鑫隆叶面阻控剂</td>\n      <td>0.00100</td>\n      <td>0.0015</td>\n      <td>0.08020</td>\n      <td>0.0100</td>\n      <td>0.1190</td>\n      <td>0.0253</td>\n      <td>ND</td>\n      <td>1</td>\n    </tr>\n    <tr>\n      <th>12</th>\n      <td>天象土壤调理剂+美鑫隆叶面阻控剂</td>\n      <td>0.06040</td>\n      <td>0.0015</td>\n      <td>0.05440</td>\n      <td>0.0100</td>\n      <td>0.1370</td>\n      <td>0.0288</td>\n      <td>ND</td>\n      <td>1</td>\n    </tr>\n    <tr>\n      <th>13</th>\n      <td>楚戈土壤调理剂+美鑫隆叶面阻控剂</td>\n      <td>0.00100</td>\n      <td>0.0048</td>\n      <td>0.07250</td>\n      <td>0.0100</td>\n      <td>0.1050</td>\n      <td>0.0175</td>\n      <td>ND</td>\n      <td>1</td>\n    </tr>\n    <tr>\n      <th>14</th>\n      <td>楚戈土壤调理剂+美鑫隆叶面阻控剂</td>\n      <td>0.01390</td>\n      <td>0.0015</td>\n      <td>0.03240</td>\n      <td>0.0100</td>\n      <td>0.0935</td>\n      <td>0.0366</td>\n      <td>ND</td>\n      <td>1</td>\n    </tr>\n    <tr>\n      <th>15</th>\n      <td>楚戈土壤调理剂+美鑫隆叶面阻控剂</td>\n      <td>0.03040</td>\n      <td>0.0015</td>\n      <td>0.00100</td>\n      <td>0.0333</td>\n      <td>0.0848</td>\n      <td>0.0405</td>\n      <td>ND</td>\n      <td>1</td>\n    </tr>\n    <tr>\n      <th>16</th>\n      <td>天象土壤调理剂+美鑫隆叶面阻控剂</td>\n      <td>0.00100</td>\n      <td>0.0042</td>\n      <td>0.07250</td>\n      <td>0.0100</td>\n      <td>0.1040</td>\n      <td>0.0209</td>\n      <td>ND</td>\n      <td>1</td>\n    </tr>\n    <tr>\n      <th>17</th>\n      <td>天象土壤调理剂+美鑫隆叶面阻控剂</td>\n      <td>0.00424</td>\n      <td>0.0034</td>\n      <td>0.01100</td>\n      <td>0.0100</td>\n      <td>0.0015</td>\n      <td>0.0050</td>\n      <td>ND</td>\n      <td>1</td>\n    </tr>\n    <tr>\n      <th>18</th>\n      <td>楚戈土壤调理剂+降镉灵阻控剂</td>\n      <td>0.01430</td>\n      <td>0.0015</td>\n      <td>0.00100</td>\n      <td>0.0392</td>\n      <td>0.0518</td>\n      <td>0.0518</td>\n      <td>ND</td>\n      <td>1</td>\n    </tr>\n    <tr>\n      <th>19</th>\n      <td>对照</td>\n      <td>0.00100</td>\n      <td>0.0015</td>\n      <td>0.00722</td>\n      <td>0.0230</td>\n      <td>0.1190</td>\n      <td>0.0050</td>\n      <td>ND</td>\n      <td>1</td>\n    </tr>\n    <tr>\n      <th>20</th>\n      <td>天象土壤调理剂+降镉灵阻控剂</td>\n      <td>0.03880</td>\n      <td>0.0033</td>\n      <td>0.02990</td>\n      <td>0.0209</td>\n      <td>0.0015</td>\n      <td>0.0149</td>\n      <td>ND</td>\n      <td>1</td>\n    </tr>\n    <tr>\n      <th>21</th>\n      <td>天象土壤调理剂+美鑫隆叶面阻控剂</td>\n      <td>0.00419</td>\n      <td>0.0015</td>\n      <td>0.01020</td>\n      <td>0.0100</td>\n      <td>0.0015</td>\n      <td>0.0050</td>\n      <td>ND</td>\n      <td>1</td>\n    </tr>\n    <tr>\n      <th>22</th>\n      <td>对照</td>\n      <td>0.01640</td>\n      <td>0.0038</td>\n      <td>0.00100</td>\n      <td>0.0545</td>\n      <td>0.0613</td>\n      <td>0.0213</td>\n      <td>ND</td>\n      <td>1</td>\n    </tr>\n    <tr>\n      <th>23</th>\n      <td>楚戈土壤调理剂+降镉灵阻控剂</td>\n      <td>0.19600</td>\n      <td>0.0015</td>\n      <td>0.51900</td>\n      <td>0.0100</td>\n      <td>0.6010</td>\n      <td>0.0614</td>\n      <td>ND</td>\n      <td>2</td>\n    </tr>\n    <tr>\n      <th>24</th>\n      <td>天象土壤调理剂+降镉灵阻控剂</td>\n      <td>0.04830</td>\n      <td>0.0042</td>\n      <td>0.00100</td>\n      <td>0.0100</td>\n      <td>0.0199</td>\n      <td>0.0050</td>\n      <td>ND</td>\n      <td>1</td>\n    </tr>\n    <tr>\n      <th>25</th>\n      <td>楚戈土壤调理剂+降镉灵阻控剂</td>\n      <td>0.01740</td>\n      <td>0.0034</td>\n      <td>0.00100</td>\n      <td>0.0100</td>\n      <td>0.1010</td>\n      <td>0.0050</td>\n      <td>ND</td>\n      <td>1</td>\n    </tr>\n    <tr>\n      <th>26</th>\n      <td>对照</td>\n      <td>0.00712</td>\n      <td>0.0015</td>\n      <td>0.00358</td>\n      <td>0.0100</td>\n      <td>0.1410</td>\n      <td>0.0246</td>\n      <td>ND</td>\n      <td>1</td>\n    </tr>\n    <tr>\n      <th>27</th>\n      <td>天象土壤调理剂+降镉灵阻控剂</td>\n      <td>0.00763</td>\n      <td>0.0015</td>\n      <td>0.00565</td>\n      <td>0.0100</td>\n      <td>0.0015</td>\n      <td>0.0050</td>\n      <td>ND</td>\n      <td>1</td>\n    </tr>\n  </tbody>\n</table>\n</div>"
     },
     "execution_count": 129,
     "metadata": {},
     "output_type": "execute_result"
    }
   ],
   "source": [
    "df"
   ],
   "metadata": {
    "collapsed": false,
    "pycharm": {
     "name": "#%%\n"
    }
   }
  },
  {
   "cell_type": "code",
   "execution_count": 130,
   "outputs": [],
   "source": [
    "df[\"镉\"] = df[\"镉\"]/0.2\n",
    "df[\"汞\"] = df[\"汞\"]/0.02\n",
    "df[\"砷\"] = df[\"砷\"]/0.5\n",
    "df[\"铅\"] = df[\"铅\"]/0.2\n",
    "df[\"铬\"] = df[\"铬\"]/1"
   ],
   "metadata": {
    "collapsed": false,
    "pycharm": {
     "name": "#%%\n"
    }
   }
  },
  {
   "cell_type": "code",
   "execution_count": 131,
   "outputs": [
    {
     "data": {
      "text/plain": "                  材料        镉      汞        砷       铅       铬       硒   锗  \\\n0     楚戈土壤调理剂+降镉灵阻控剂  0.24950  0.075  0.00200  1.3350  0.3830  0.1200  ND   \n1     楚戈土壤调理剂+降镉灵阻控剂  0.07150  0.190  0.06000  0.0500  0.0652  0.0259  ND   \n2     楚戈土壤调理剂+降镉灵阻控剂  0.01315  0.075  0.14040  0.1935  0.0015  0.0625  ND   \n3   楚戈土壤调理剂+美鑫隆叶面阻控剂  0.16800  0.320  0.04960  0.0500  0.0634  0.0280  ND   \n4   楚戈土壤调理剂+美鑫隆叶面阻控剂  0.10550  0.180  0.14320  0.0500  0.0015  0.0198  ND   \n5   楚戈土壤调理剂+美鑫隆叶面阻控剂  0.31100  0.075  0.00200  0.6800  0.1950  0.0050  ND   \n6                 对照  0.15350  0.075  0.14720  0.0500  0.1740  0.0379  ND   \n7     天象土壤调理剂+降镉灵阻控剂  0.10450  0.075  0.03720  0.0500  0.0645  0.0401  ND   \n8     天象土壤调理剂+降镉灵阻控剂  0.00500  0.075  0.00200  0.0500  0.0641  0.0493  ND   \n9     天象土壤调理剂+降镉灵阻控剂  0.11150  0.075  0.08700  0.0500  0.0714  0.0179  ND   \n10  天象土壤调理剂+美鑫隆叶面阻控剂  0.05400  0.370  0.03640  0.0500  0.0517  0.0233  ND   \n11  天象土壤调理剂+美鑫隆叶面阻控剂  0.00500  0.075  0.16040  0.0500  0.1190  0.0253  ND   \n12  天象土壤调理剂+美鑫隆叶面阻控剂  0.30200  0.075  0.10880  0.0500  0.1370  0.0288  ND   \n13  楚戈土壤调理剂+美鑫隆叶面阻控剂  0.00500  0.240  0.14500  0.0500  0.1050  0.0175  ND   \n14  楚戈土壤调理剂+美鑫隆叶面阻控剂  0.06950  0.075  0.06480  0.0500  0.0935  0.0366  ND   \n15  楚戈土壤调理剂+美鑫隆叶面阻控剂  0.15200  0.075  0.00200  0.1665  0.0848  0.0405  ND   \n16  天象土壤调理剂+美鑫隆叶面阻控剂  0.00500  0.210  0.14500  0.0500  0.1040  0.0209  ND   \n17  天象土壤调理剂+美鑫隆叶面阻控剂  0.02120  0.170  0.02200  0.0500  0.0015  0.0050  ND   \n18    楚戈土壤调理剂+降镉灵阻控剂  0.07150  0.075  0.00200  0.1960  0.0518  0.0518  ND   \n19                对照  0.00500  0.075  0.01444  0.1150  0.1190  0.0050  ND   \n20    天象土壤调理剂+降镉灵阻控剂  0.19400  0.165  0.05980  0.1045  0.0015  0.0149  ND   \n21  天象土壤调理剂+美鑫隆叶面阻控剂  0.02095  0.075  0.02040  0.0500  0.0015  0.0050  ND   \n22                对照  0.08200  0.190  0.00200  0.2725  0.0613  0.0213  ND   \n23    楚戈土壤调理剂+降镉灵阻控剂  0.98000  0.075  1.03800  0.0500  0.6010  0.0614  ND   \n24    天象土壤调理剂+降镉灵阻控剂  0.24150  0.210  0.00200  0.0500  0.0199  0.0050  ND   \n25    楚戈土壤调理剂+降镉灵阻控剂  0.08700  0.170  0.00200  0.0500  0.1010  0.0050  ND   \n26                对照  0.03560  0.075  0.00716  0.0500  0.1410  0.0246  ND   \n27    天象土壤调理剂+降镉灵阻控剂  0.03815  0.075  0.01130  0.0500  0.0015  0.0050  ND   \n\n    安全等级_五综合  \n0          2  \n1          1  \n2          1  \n3          1  \n4          1  \n5          1  \n6          1  \n7          1  \n8          1  \n9          1  \n10         1  \n11         1  \n12         1  \n13         1  \n14         1  \n15         1  \n16         1  \n17         1  \n18         1  \n19         1  \n20         1  \n21         1  \n22         1  \n23         2  \n24         1  \n25         1  \n26         1  \n27         1  ",
      "text/html": "<div>\n<style scoped>\n    .dataframe tbody tr th:only-of-type {\n        vertical-align: middle;\n    }\n\n    .dataframe tbody tr th {\n        vertical-align: top;\n    }\n\n    .dataframe thead th {\n        text-align: right;\n    }\n</style>\n<table border=\"1\" class=\"dataframe\">\n  <thead>\n    <tr style=\"text-align: right;\">\n      <th></th>\n      <th>材料</th>\n      <th>镉</th>\n      <th>汞</th>\n      <th>砷</th>\n      <th>铅</th>\n      <th>铬</th>\n      <th>硒</th>\n      <th>锗</th>\n      <th>安全等级_五综合</th>\n    </tr>\n  </thead>\n  <tbody>\n    <tr>\n      <th>0</th>\n      <td>楚戈土壤调理剂+降镉灵阻控剂</td>\n      <td>0.24950</td>\n      <td>0.075</td>\n      <td>0.00200</td>\n      <td>1.3350</td>\n      <td>0.3830</td>\n      <td>0.1200</td>\n      <td>ND</td>\n      <td>2</td>\n    </tr>\n    <tr>\n      <th>1</th>\n      <td>楚戈土壤调理剂+降镉灵阻控剂</td>\n      <td>0.07150</td>\n      <td>0.190</td>\n      <td>0.06000</td>\n      <td>0.0500</td>\n      <td>0.0652</td>\n      <td>0.0259</td>\n      <td>ND</td>\n      <td>1</td>\n    </tr>\n    <tr>\n      <th>2</th>\n      <td>楚戈土壤调理剂+降镉灵阻控剂</td>\n      <td>0.01315</td>\n      <td>0.075</td>\n      <td>0.14040</td>\n      <td>0.1935</td>\n      <td>0.0015</td>\n      <td>0.0625</td>\n      <td>ND</td>\n      <td>1</td>\n    </tr>\n    <tr>\n      <th>3</th>\n      <td>楚戈土壤调理剂+美鑫隆叶面阻控剂</td>\n      <td>0.16800</td>\n      <td>0.320</td>\n      <td>0.04960</td>\n      <td>0.0500</td>\n      <td>0.0634</td>\n      <td>0.0280</td>\n      <td>ND</td>\n      <td>1</td>\n    </tr>\n    <tr>\n      <th>4</th>\n      <td>楚戈土壤调理剂+美鑫隆叶面阻控剂</td>\n      <td>0.10550</td>\n      <td>0.180</td>\n      <td>0.14320</td>\n      <td>0.0500</td>\n      <td>0.0015</td>\n      <td>0.0198</td>\n      <td>ND</td>\n      <td>1</td>\n    </tr>\n    <tr>\n      <th>5</th>\n      <td>楚戈土壤调理剂+美鑫隆叶面阻控剂</td>\n      <td>0.31100</td>\n      <td>0.075</td>\n      <td>0.00200</td>\n      <td>0.6800</td>\n      <td>0.1950</td>\n      <td>0.0050</td>\n      <td>ND</td>\n      <td>1</td>\n    </tr>\n    <tr>\n      <th>6</th>\n      <td>对照</td>\n      <td>0.15350</td>\n      <td>0.075</td>\n      <td>0.14720</td>\n      <td>0.0500</td>\n      <td>0.1740</td>\n      <td>0.0379</td>\n      <td>ND</td>\n      <td>1</td>\n    </tr>\n    <tr>\n      <th>7</th>\n      <td>天象土壤调理剂+降镉灵阻控剂</td>\n      <td>0.10450</td>\n      <td>0.075</td>\n      <td>0.03720</td>\n      <td>0.0500</td>\n      <td>0.0645</td>\n      <td>0.0401</td>\n      <td>ND</td>\n      <td>1</td>\n    </tr>\n    <tr>\n      <th>8</th>\n      <td>天象土壤调理剂+降镉灵阻控剂</td>\n      <td>0.00500</td>\n      <td>0.075</td>\n      <td>0.00200</td>\n      <td>0.0500</td>\n      <td>0.0641</td>\n      <td>0.0493</td>\n      <td>ND</td>\n      <td>1</td>\n    </tr>\n    <tr>\n      <th>9</th>\n      <td>天象土壤调理剂+降镉灵阻控剂</td>\n      <td>0.11150</td>\n      <td>0.075</td>\n      <td>0.08700</td>\n      <td>0.0500</td>\n      <td>0.0714</td>\n      <td>0.0179</td>\n      <td>ND</td>\n      <td>1</td>\n    </tr>\n    <tr>\n      <th>10</th>\n      <td>天象土壤调理剂+美鑫隆叶面阻控剂</td>\n      <td>0.05400</td>\n      <td>0.370</td>\n      <td>0.03640</td>\n      <td>0.0500</td>\n      <td>0.0517</td>\n      <td>0.0233</td>\n      <td>ND</td>\n      <td>1</td>\n    </tr>\n    <tr>\n      <th>11</th>\n      <td>天象土壤调理剂+美鑫隆叶面阻控剂</td>\n      <td>0.00500</td>\n      <td>0.075</td>\n      <td>0.16040</td>\n      <td>0.0500</td>\n      <td>0.1190</td>\n      <td>0.0253</td>\n      <td>ND</td>\n      <td>1</td>\n    </tr>\n    <tr>\n      <th>12</th>\n      <td>天象土壤调理剂+美鑫隆叶面阻控剂</td>\n      <td>0.30200</td>\n      <td>0.075</td>\n      <td>0.10880</td>\n      <td>0.0500</td>\n      <td>0.1370</td>\n      <td>0.0288</td>\n      <td>ND</td>\n      <td>1</td>\n    </tr>\n    <tr>\n      <th>13</th>\n      <td>楚戈土壤调理剂+美鑫隆叶面阻控剂</td>\n      <td>0.00500</td>\n      <td>0.240</td>\n      <td>0.14500</td>\n      <td>0.0500</td>\n      <td>0.1050</td>\n      <td>0.0175</td>\n      <td>ND</td>\n      <td>1</td>\n    </tr>\n    <tr>\n      <th>14</th>\n      <td>楚戈土壤调理剂+美鑫隆叶面阻控剂</td>\n      <td>0.06950</td>\n      <td>0.075</td>\n      <td>0.06480</td>\n      <td>0.0500</td>\n      <td>0.0935</td>\n      <td>0.0366</td>\n      <td>ND</td>\n      <td>1</td>\n    </tr>\n    <tr>\n      <th>15</th>\n      <td>楚戈土壤调理剂+美鑫隆叶面阻控剂</td>\n      <td>0.15200</td>\n      <td>0.075</td>\n      <td>0.00200</td>\n      <td>0.1665</td>\n      <td>0.0848</td>\n      <td>0.0405</td>\n      <td>ND</td>\n      <td>1</td>\n    </tr>\n    <tr>\n      <th>16</th>\n      <td>天象土壤调理剂+美鑫隆叶面阻控剂</td>\n      <td>0.00500</td>\n      <td>0.210</td>\n      <td>0.14500</td>\n      <td>0.0500</td>\n      <td>0.1040</td>\n      <td>0.0209</td>\n      <td>ND</td>\n      <td>1</td>\n    </tr>\n    <tr>\n      <th>17</th>\n      <td>天象土壤调理剂+美鑫隆叶面阻控剂</td>\n      <td>0.02120</td>\n      <td>0.170</td>\n      <td>0.02200</td>\n      <td>0.0500</td>\n      <td>0.0015</td>\n      <td>0.0050</td>\n      <td>ND</td>\n      <td>1</td>\n    </tr>\n    <tr>\n      <th>18</th>\n      <td>楚戈土壤调理剂+降镉灵阻控剂</td>\n      <td>0.07150</td>\n      <td>0.075</td>\n      <td>0.00200</td>\n      <td>0.1960</td>\n      <td>0.0518</td>\n      <td>0.0518</td>\n      <td>ND</td>\n      <td>1</td>\n    </tr>\n    <tr>\n      <th>19</th>\n      <td>对照</td>\n      <td>0.00500</td>\n      <td>0.075</td>\n      <td>0.01444</td>\n      <td>0.1150</td>\n      <td>0.1190</td>\n      <td>0.0050</td>\n      <td>ND</td>\n      <td>1</td>\n    </tr>\n    <tr>\n      <th>20</th>\n      <td>天象土壤调理剂+降镉灵阻控剂</td>\n      <td>0.19400</td>\n      <td>0.165</td>\n      <td>0.05980</td>\n      <td>0.1045</td>\n      <td>0.0015</td>\n      <td>0.0149</td>\n      <td>ND</td>\n      <td>1</td>\n    </tr>\n    <tr>\n      <th>21</th>\n      <td>天象土壤调理剂+美鑫隆叶面阻控剂</td>\n      <td>0.02095</td>\n      <td>0.075</td>\n      <td>0.02040</td>\n      <td>0.0500</td>\n      <td>0.0015</td>\n      <td>0.0050</td>\n      <td>ND</td>\n      <td>1</td>\n    </tr>\n    <tr>\n      <th>22</th>\n      <td>对照</td>\n      <td>0.08200</td>\n      <td>0.190</td>\n      <td>0.00200</td>\n      <td>0.2725</td>\n      <td>0.0613</td>\n      <td>0.0213</td>\n      <td>ND</td>\n      <td>1</td>\n    </tr>\n    <tr>\n      <th>23</th>\n      <td>楚戈土壤调理剂+降镉灵阻控剂</td>\n      <td>0.98000</td>\n      <td>0.075</td>\n      <td>1.03800</td>\n      <td>0.0500</td>\n      <td>0.6010</td>\n      <td>0.0614</td>\n      <td>ND</td>\n      <td>2</td>\n    </tr>\n    <tr>\n      <th>24</th>\n      <td>天象土壤调理剂+降镉灵阻控剂</td>\n      <td>0.24150</td>\n      <td>0.210</td>\n      <td>0.00200</td>\n      <td>0.0500</td>\n      <td>0.0199</td>\n      <td>0.0050</td>\n      <td>ND</td>\n      <td>1</td>\n    </tr>\n    <tr>\n      <th>25</th>\n      <td>楚戈土壤调理剂+降镉灵阻控剂</td>\n      <td>0.08700</td>\n      <td>0.170</td>\n      <td>0.00200</td>\n      <td>0.0500</td>\n      <td>0.1010</td>\n      <td>0.0050</td>\n      <td>ND</td>\n      <td>1</td>\n    </tr>\n    <tr>\n      <th>26</th>\n      <td>对照</td>\n      <td>0.03560</td>\n      <td>0.075</td>\n      <td>0.00716</td>\n      <td>0.0500</td>\n      <td>0.1410</td>\n      <td>0.0246</td>\n      <td>ND</td>\n      <td>1</td>\n    </tr>\n    <tr>\n      <th>27</th>\n      <td>天象土壤调理剂+降镉灵阻控剂</td>\n      <td>0.03815</td>\n      <td>0.075</td>\n      <td>0.01130</td>\n      <td>0.0500</td>\n      <td>0.0015</td>\n      <td>0.0050</td>\n      <td>ND</td>\n      <td>1</td>\n    </tr>\n  </tbody>\n</table>\n</div>"
     },
     "execution_count": 131,
     "metadata": {},
     "output_type": "execute_result"
    }
   ],
   "source": [
    "df"
   ],
   "metadata": {
    "collapsed": false,
    "pycharm": {
     "name": "#%%\n"
    }
   }
  },
  {
   "cell_type": "code",
   "execution_count": 132,
   "outputs": [],
   "source": [
    "dict_b = {}\n",
    "for one_row in rows:\n",
    "    ele_list = []\n",
    "    for one_ele in [\"镉\", \"汞\", \"砷\", \"铅\", \"铬\"]:\n",
    "        key_value = df.loc[df[\"材料\"] == \"%s\"%one_row,\"%s\"%one_ele].sum()/rows_list.count(\"%s\"%one_row)\n",
    "        ele_list.append(key_value)\n",
    "    ele_list = ele_list+[rows_list.count(\"%s\"%one_row)]\n",
    "    dict_b[one_row] = ele_list"
   ],
   "metadata": {
    "collapsed": false,
    "pycharm": {
     "name": "#%%\n"
    }
   }
  },
  {
   "cell_type": "code",
   "execution_count": 133,
   "outputs": [],
   "source": [
    "U = pd.DataFrame(dict_b)"
   ],
   "metadata": {
    "collapsed": false,
    "pycharm": {
     "name": "#%%\n"
    }
   }
  },
  {
   "cell_type": "code",
   "execution_count": 134,
   "outputs": [],
   "source": [
    "U = pd.DataFrame(U.T)"
   ],
   "metadata": {
    "collapsed": false,
    "pycharm": {
     "name": "#%%\n"
    }
   }
  },
  {
   "cell_type": "code",
   "execution_count": 135,
   "outputs": [
    {
     "data": {
      "text/plain": "                         0         1         2         3         4    5\n对照                0.069025  0.103750  0.042700  0.121875  0.123825  4.0\n天象土壤调理剂+降镉灵阻控剂    0.115775  0.112500  0.033217  0.059083  0.037150  6.0\n楚戈土壤调理剂+美鑫隆叶面阻控剂  0.135167  0.160833  0.067767  0.174417  0.090533  6.0\n天象土壤调理剂+美鑫隆叶面阻控剂  0.068025  0.162500  0.082167  0.050000  0.069117  6.0\n楚戈土壤调理剂+降镉灵阻控剂    0.245442  0.110000  0.207400  0.312417  0.200583  6.0",
      "text/html": "<div>\n<style scoped>\n    .dataframe tbody tr th:only-of-type {\n        vertical-align: middle;\n    }\n\n    .dataframe tbody tr th {\n        vertical-align: top;\n    }\n\n    .dataframe thead th {\n        text-align: right;\n    }\n</style>\n<table border=\"1\" class=\"dataframe\">\n  <thead>\n    <tr style=\"text-align: right;\">\n      <th></th>\n      <th>0</th>\n      <th>1</th>\n      <th>2</th>\n      <th>3</th>\n      <th>4</th>\n      <th>5</th>\n    </tr>\n  </thead>\n  <tbody>\n    <tr>\n      <th>对照</th>\n      <td>0.069025</td>\n      <td>0.103750</td>\n      <td>0.042700</td>\n      <td>0.121875</td>\n      <td>0.123825</td>\n      <td>4.0</td>\n    </tr>\n    <tr>\n      <th>天象土壤调理剂+降镉灵阻控剂</th>\n      <td>0.115775</td>\n      <td>0.112500</td>\n      <td>0.033217</td>\n      <td>0.059083</td>\n      <td>0.037150</td>\n      <td>6.0</td>\n    </tr>\n    <tr>\n      <th>楚戈土壤调理剂+美鑫隆叶面阻控剂</th>\n      <td>0.135167</td>\n      <td>0.160833</td>\n      <td>0.067767</td>\n      <td>0.174417</td>\n      <td>0.090533</td>\n      <td>6.0</td>\n    </tr>\n    <tr>\n      <th>天象土壤调理剂+美鑫隆叶面阻控剂</th>\n      <td>0.068025</td>\n      <td>0.162500</td>\n      <td>0.082167</td>\n      <td>0.050000</td>\n      <td>0.069117</td>\n      <td>6.0</td>\n    </tr>\n    <tr>\n      <th>楚戈土壤调理剂+降镉灵阻控剂</th>\n      <td>0.245442</td>\n      <td>0.110000</td>\n      <td>0.207400</td>\n      <td>0.312417</td>\n      <td>0.200583</td>\n      <td>6.0</td>\n    </tr>\n  </tbody>\n</table>\n</div>"
     },
     "execution_count": 135,
     "metadata": {},
     "output_type": "execute_result"
    }
   ],
   "source": [
    "U"
   ],
   "metadata": {
    "collapsed": false,
    "pycharm": {
     "name": "#%%\n"
    }
   }
  },
  {
   "cell_type": "code",
   "execution_count": 136,
   "outputs": [],
   "source": [
    "U.to_excel(r\"C:\\Users\\65680\\Desktop\\联合攻关区罗甸农产品_%s结果.xls\"%name)"
   ],
   "metadata": {
    "collapsed": false,
    "pycharm": {
     "name": "#%%\n"
    }
   }
  }
 ],
 "metadata": {
  "kernelspec": {
   "display_name": "PyCharm (Project)",
   "language": "python",
   "name": "pycharm-c21a72c6"
  },
  "language_info": {
   "codemirror_mode": {
    "name": "ipython",
    "version": 2
   },
   "file_extension": ".py",
   "mimetype": "text/x-python",
   "name": "python",
   "nbconvert_exporter": "python",
   "pygments_lexer": "ipython2",
   "version": "2.7.6"
  }
 },
 "nbformat": 4,
 "nbformat_minor": 0
}
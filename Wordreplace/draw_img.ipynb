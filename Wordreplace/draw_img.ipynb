{
 "cells": [
  {
   "cell_type": "code",
   "execution_count": null,
   "metadata": {},
   "outputs": [],
   "source": [
    "import colorsys\n",
    "import json\n",
    "from PIL import Image, ImageDraw, ImageFont\n",
    "from docx import Document\n",
    "from docx.shared import Inches,RGBColor"
   ]
  },
  {
   "cell_type": "code",
   "execution_count": null,
   "metadata": {},
   "outputs": [],
   "source": [
    "HW_RATIO=1\n",
    "WIDTH = 132"
   ]
  },
  {
   "cell_type": "code",
   "execution_count": null,
   "metadata": {},
   "outputs": [],
   "source": [
    "img = Image.open(r\"C:\\Users\\Runker\\Desktop\\test.jpg\")"
   ]
  },
  {
   "cell_type": "code",
   "execution_count": null,
   "metadata": {},
   "outputs": [],
   "source": [
    "width,height = img.width,img.height"
   ]
  },
  {
   "cell_type": "code",
   "execution_count": null,
   "metadata": {},
   "outputs": [],
   "source": [
    "resized = img.resize((WIDTH,int(height/width*WIDTH*HW_RATIO)))"
   ]
  },
  {
   "cell_type": "code",
   "execution_count": null,
   "metadata": {},
   "outputs": [],
   "source": [
    "colors = []"
   ]
  },
  {
   "cell_type": "code",
   "execution_count": null,
   "metadata": {},
   "outputs": [],
   "source": [
    "print(resized.width,resized.height)"
   ]
  },
  {
   "cell_type": "code",
   "execution_count": null,
   "metadata": {},
   "outputs": [],
   "source": [
    "data = resized.load()"
   ]
  },
  {
   "cell_type": "code",
   "execution_count": null,
   "metadata": {},
   "outputs": [],
   "source": [
    "for j in range(resized.height):\n",
    "    for i in range(resized.width):\n",
    "        px = data[i,j]\n",
    "        density = max(px)\n",
    "        h,s,v = colorsys.rgb_to_hsv(*[d/255 for d in px])\n",
    "        s *= 1.2\n",
    "        s = min(s,1)\n",
    "        r,g,b = colorsys.hsv_to_rgb(h,s,v)\n",
    "        colors.append([int(r*255),int(g*255),int(b*255)])\n",
    "        print('F' if i % 2==0 else 'F', end='')\n",
    "    print(\"\")\n",
    "with open(r\"C:\\Users\\Runker\\Desktop\\test2.json\",\"w\") as f:\n",
    "    json.dump(colors,f)"
   ]
  },
  {
   "cell_type": "code",
   "execution_count": null,
   "metadata": {},
   "outputs": [],
   "source": [
    "with open(r\"C:\\Users\\Runker\\Desktop\\test2.json\") as f:\n",
    "    colors = json.load(f)\n",
    "color_idx=0"
   ]
  },
  {
   "cell_type": "code",
   "execution_count": null,
   "metadata": {},
   "outputs": [],
   "source": [
    "document = Document(r\"C:\\Users\\Runker\\Desktop\\test.docx\")"
   ]
  },
  {
   "cell_type": "code",
   "execution_count": null,
   "metadata": {},
   "outputs": [],
   "source": [
    "for pid,paragraph in enumerate(document.paragraphs):\n",
    "    original_run = paragraph.runs[0]\n",
    "    for c in paragraph.text:\n",
    "        run = paragraph.add_run(c)\n",
    "        color = colors[color_idx]\n",
    "        color_idx+=1\n",
    "        run.font.color.rgb = RGBColor(color[0],color[1],color[2])\n",
    "        run.font.name = original_run.font.name\n",
    "        run.font.size = original_run.font.size\n",
    "    paragraph.runs[0].clear()\n",
    "document.save(r\"C:\\Users\\Runker\\Desktop\\test3.docx\")"
   ]
  }
 ],
 "metadata": {
  "kernelspec": {
   "display_name": ".spidervenv",
   "language": "python",
   "name": "python3"
  },
  "language_info": {
   "codemirror_mode": {
    "name": "ipython",
    "version": 3
   },
   "file_extension": ".py",
   "mimetype": "text/x-python",
   "name": "python",
   "nbconvert_exporter": "python",
   "pygments_lexer": "ipython3",
   "version": "3.8.8"
  }
 },
 "nbformat": 4,
 "nbformat_minor": 2
}
